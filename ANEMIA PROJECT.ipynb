{
 "cells": [
  {
   "cell_type": "code",
   "execution_count": 93,
   "id": "a70807ff",
   "metadata": {},
   "outputs": [],
   "source": [
    "import pandas as pd\n",
    "import numpy as np\n",
    "import matplotlib.pyplot as plt"
   ]
  },
  {
   "cell_type": "code",
   "execution_count": 94,
   "id": "6dcedd78",
   "metadata": {},
   "outputs": [],
   "source": [
    "data=pd.read_csv(\"Anaemia.csv\")"
   ]
  },
  {
   "cell_type": "code",
   "execution_count": 95,
   "id": "7f4af193",
   "metadata": {},
   "outputs": [],
   "source": [
    "data.replace([\"Male\",\"Female\"],[int(1),int(0)],inplace=True)"
   ]
  },
  {
   "cell_type": "code",
   "execution_count": 96,
   "id": "109eacf6",
   "metadata": {},
   "outputs": [
    {
     "data": {
      "text/plain": "        NO  Hemoglobin   MCH  MCHC   MCV  GENDER      RESULT\n0        1        14.9  22.7  29.1  83.7       1  Not Anemia\n1        2        15.9  25.4  28.3  72.0       0  Not Anemia\n2        3         9.0  21.5  29.6  71.2       0      Anemia\n3        4        14.9  16.0  31.4  87.5       0  Not Anemia\n4        5        14.7  22.0  28.2  99.5       1  Not Anemia\n...    ...         ...   ...   ...   ...     ...         ...\n1416  1417        10.6  25.4  28.2  82.9       0      Anemia\n1417  1418        12.1  28.3  30.4  86.9       1      Anemia\n1418  1419        13.1  17.7  28.1  80.7       1      Anemia\n1419  1420        14.3  16.2  29.5  95.2       0  Not Anemia\n1420  1421        11.8  21.2  28.4  98.1       0      Anemia\n\n[1421 rows x 7 columns]",
      "text/html": "<div>\n<style scoped>\n    .dataframe tbody tr th:only-of-type {\n        vertical-align: middle;\n    }\n\n    .dataframe tbody tr th {\n        vertical-align: top;\n    }\n\n    .dataframe thead th {\n        text-align: right;\n    }\n</style>\n<table border=\"1\" class=\"dataframe\">\n  <thead>\n    <tr style=\"text-align: right;\">\n      <th></th>\n      <th>NO</th>\n      <th>Hemoglobin</th>\n      <th>MCH</th>\n      <th>MCHC</th>\n      <th>MCV</th>\n      <th>GENDER</th>\n      <th>RESULT</th>\n    </tr>\n  </thead>\n  <tbody>\n    <tr>\n      <th>0</th>\n      <td>1</td>\n      <td>14.9</td>\n      <td>22.7</td>\n      <td>29.1</td>\n      <td>83.7</td>\n      <td>1</td>\n      <td>Not Anemia</td>\n    </tr>\n    <tr>\n      <th>1</th>\n      <td>2</td>\n      <td>15.9</td>\n      <td>25.4</td>\n      <td>28.3</td>\n      <td>72.0</td>\n      <td>0</td>\n      <td>Not Anemia</td>\n    </tr>\n    <tr>\n      <th>2</th>\n      <td>3</td>\n      <td>9.0</td>\n      <td>21.5</td>\n      <td>29.6</td>\n      <td>71.2</td>\n      <td>0</td>\n      <td>Anemia</td>\n    </tr>\n    <tr>\n      <th>3</th>\n      <td>4</td>\n      <td>14.9</td>\n      <td>16.0</td>\n      <td>31.4</td>\n      <td>87.5</td>\n      <td>0</td>\n      <td>Not Anemia</td>\n    </tr>\n    <tr>\n      <th>4</th>\n      <td>5</td>\n      <td>14.7</td>\n      <td>22.0</td>\n      <td>28.2</td>\n      <td>99.5</td>\n      <td>1</td>\n      <td>Not Anemia</td>\n    </tr>\n    <tr>\n      <th>...</th>\n      <td>...</td>\n      <td>...</td>\n      <td>...</td>\n      <td>...</td>\n      <td>...</td>\n      <td>...</td>\n      <td>...</td>\n    </tr>\n    <tr>\n      <th>1416</th>\n      <td>1417</td>\n      <td>10.6</td>\n      <td>25.4</td>\n      <td>28.2</td>\n      <td>82.9</td>\n      <td>0</td>\n      <td>Anemia</td>\n    </tr>\n    <tr>\n      <th>1417</th>\n      <td>1418</td>\n      <td>12.1</td>\n      <td>28.3</td>\n      <td>30.4</td>\n      <td>86.9</td>\n      <td>1</td>\n      <td>Anemia</td>\n    </tr>\n    <tr>\n      <th>1418</th>\n      <td>1419</td>\n      <td>13.1</td>\n      <td>17.7</td>\n      <td>28.1</td>\n      <td>80.7</td>\n      <td>1</td>\n      <td>Anemia</td>\n    </tr>\n    <tr>\n      <th>1419</th>\n      <td>1420</td>\n      <td>14.3</td>\n      <td>16.2</td>\n      <td>29.5</td>\n      <td>95.2</td>\n      <td>0</td>\n      <td>Not Anemia</td>\n    </tr>\n    <tr>\n      <th>1420</th>\n      <td>1421</td>\n      <td>11.8</td>\n      <td>21.2</td>\n      <td>28.4</td>\n      <td>98.1</td>\n      <td>0</td>\n      <td>Anemia</td>\n    </tr>\n  </tbody>\n</table>\n<p>1421 rows × 7 columns</p>\n</div>"
     },
     "execution_count": 96,
     "metadata": {},
     "output_type": "execute_result"
    }
   ],
   "source": [
    "data"
   ]
  },
  {
   "cell_type": "code",
   "execution_count": 97,
   "id": "da79fe23",
   "metadata": {},
   "outputs": [
    {
     "data": {
      "text/plain": "<bound method NDFrame.head of         NO  Hemoglobin   MCH  MCHC   MCV  GENDER      RESULT\n0        1        14.9  22.7  29.1  83.7       1  Not Anemia\n1        2        15.9  25.4  28.3  72.0       0  Not Anemia\n2        3         9.0  21.5  29.6  71.2       0      Anemia\n3        4        14.9  16.0  31.4  87.5       0  Not Anemia\n4        5        14.7  22.0  28.2  99.5       1  Not Anemia\n...    ...         ...   ...   ...   ...     ...         ...\n1416  1417        10.6  25.4  28.2  82.9       0      Anemia\n1417  1418        12.1  28.3  30.4  86.9       1      Anemia\n1418  1419        13.1  17.7  28.1  80.7       1      Anemia\n1419  1420        14.3  16.2  29.5  95.2       0  Not Anemia\n1420  1421        11.8  21.2  28.4  98.1       0      Anemia\n\n[1421 rows x 7 columns]>"
     },
     "execution_count": 97,
     "metadata": {},
     "output_type": "execute_result"
    }
   ],
   "source": [
    "data.head"
   ]
  },
  {
   "cell_type": "code",
   "execution_count": 98,
   "id": "b799f6e4",
   "metadata": {},
   "outputs": [
    {
     "data": {
      "text/plain": "<bound method NDFrame.tail of         NO  Hemoglobin   MCH  MCHC   MCV  GENDER      RESULT\n0        1        14.9  22.7  29.1  83.7       1  Not Anemia\n1        2        15.9  25.4  28.3  72.0       0  Not Anemia\n2        3         9.0  21.5  29.6  71.2       0      Anemia\n3        4        14.9  16.0  31.4  87.5       0  Not Anemia\n4        5        14.7  22.0  28.2  99.5       1  Not Anemia\n...    ...         ...   ...   ...   ...     ...         ...\n1416  1417        10.6  25.4  28.2  82.9       0      Anemia\n1417  1418        12.1  28.3  30.4  86.9       1      Anemia\n1418  1419        13.1  17.7  28.1  80.7       1      Anemia\n1419  1420        14.3  16.2  29.5  95.2       0  Not Anemia\n1420  1421        11.8  21.2  28.4  98.1       0      Anemia\n\n[1421 rows x 7 columns]>"
     },
     "execution_count": 98,
     "metadata": {},
     "output_type": "execute_result"
    }
   ],
   "source": [
    "data.tail"
   ]
  },
  {
   "cell_type": "code",
   "execution_count": 99,
   "id": "f04d58eb",
   "metadata": {},
   "outputs": [
    {
     "data": {
      "text/plain": "   NO  Hemoglobin   MCH  MCHC   MCV  GENDER      RESULT\n0   1        14.9  22.7  29.1  83.7       1  Not Anemia\n1   2        15.9  25.4  28.3  72.0       0  Not Anemia\n2   3         9.0  21.5  29.6  71.2       0      Anemia\n3   4        14.9  16.0  31.4  87.5       0  Not Anemia\n4   5        14.7  22.0  28.2  99.5       1  Not Anemia",
      "text/html": "<div>\n<style scoped>\n    .dataframe tbody tr th:only-of-type {\n        vertical-align: middle;\n    }\n\n    .dataframe tbody tr th {\n        vertical-align: top;\n    }\n\n    .dataframe thead th {\n        text-align: right;\n    }\n</style>\n<table border=\"1\" class=\"dataframe\">\n  <thead>\n    <tr style=\"text-align: right;\">\n      <th></th>\n      <th>NO</th>\n      <th>Hemoglobin</th>\n      <th>MCH</th>\n      <th>MCHC</th>\n      <th>MCV</th>\n      <th>GENDER</th>\n      <th>RESULT</th>\n    </tr>\n  </thead>\n  <tbody>\n    <tr>\n      <th>0</th>\n      <td>1</td>\n      <td>14.9</td>\n      <td>22.7</td>\n      <td>29.1</td>\n      <td>83.7</td>\n      <td>1</td>\n      <td>Not Anemia</td>\n    </tr>\n    <tr>\n      <th>1</th>\n      <td>2</td>\n      <td>15.9</td>\n      <td>25.4</td>\n      <td>28.3</td>\n      <td>72.0</td>\n      <td>0</td>\n      <td>Not Anemia</td>\n    </tr>\n    <tr>\n      <th>2</th>\n      <td>3</td>\n      <td>9.0</td>\n      <td>21.5</td>\n      <td>29.6</td>\n      <td>71.2</td>\n      <td>0</td>\n      <td>Anemia</td>\n    </tr>\n    <tr>\n      <th>3</th>\n      <td>4</td>\n      <td>14.9</td>\n      <td>16.0</td>\n      <td>31.4</td>\n      <td>87.5</td>\n      <td>0</td>\n      <td>Not Anemia</td>\n    </tr>\n    <tr>\n      <th>4</th>\n      <td>5</td>\n      <td>14.7</td>\n      <td>22.0</td>\n      <td>28.2</td>\n      <td>99.5</td>\n      <td>1</td>\n      <td>Not Anemia</td>\n    </tr>\n  </tbody>\n</table>\n</div>"
     },
     "execution_count": 99,
     "metadata": {},
     "output_type": "execute_result"
    }
   ],
   "source": [
    "data.head()"
   ]
  },
  {
   "cell_type": "code",
   "execution_count": 100,
   "id": "1e270c85",
   "metadata": {},
   "outputs": [
    {
     "name": "stdout",
     "output_type": "stream",
     "text": [
      "<class 'pandas.core.frame.DataFrame'>\n",
      "RangeIndex: 1421 entries, 0 to 1420\n",
      "Data columns (total 7 columns):\n",
      " #   Column      Non-Null Count  Dtype  \n",
      "---  ------      --------------  -----  \n",
      " 0   NO          1421 non-null   int64  \n",
      " 1   Hemoglobin  1421 non-null   float64\n",
      " 2   MCH         1421 non-null   float64\n",
      " 3   MCHC        1421 non-null   float64\n",
      " 4   MCV         1421 non-null   float64\n",
      " 5   GENDER      1421 non-null   int64  \n",
      " 6   RESULT      1421 non-null   object \n",
      "dtypes: float64(4), int64(2), object(1)\n",
      "memory usage: 77.8+ KB\n"
     ]
    }
   ],
   "source": [
    "data.info()"
   ]
  },
  {
   "cell_type": "code",
   "execution_count": 101,
   "id": "d7bcdf99",
   "metadata": {},
   "outputs": [
    {
     "data": {
      "text/plain": "NO            0\nHemoglobin    0\nMCH           0\nMCHC          0\nMCV           0\nGENDER        0\nRESULT        0\ndtype: int64"
     },
     "execution_count": 101,
     "metadata": {},
     "output_type": "execute_result"
    }
   ],
   "source": [
    "data.isnull().sum()"
   ]
  },
  {
   "cell_type": "code",
   "execution_count": 102,
   "id": "a4e86d05",
   "metadata": {},
   "outputs": [
    {
     "data": {
      "text/plain": "Index(['NO', 'Hemoglobin', 'MCH', 'MCHC', 'MCV', 'GENDER', 'RESULT'], dtype='object')"
     },
     "execution_count": 102,
     "metadata": {},
     "output_type": "execute_result"
    }
   ],
   "source": [
    "data.columns"
   ]
  },
  {
   "cell_type": "code",
   "execution_count": 103,
   "id": "ffe84b17",
   "metadata": {},
   "outputs": [
    {
     "data": {
      "text/plain": "0       Not Anemia\n1       Not Anemia\n2           Anemia\n3       Not Anemia\n4       Not Anemia\n           ...    \n1416        Anemia\n1417        Anemia\n1418        Anemia\n1419    Not Anemia\n1420        Anemia\nName: RESULT, Length: 1421, dtype: object"
     },
     "execution_count": 103,
     "metadata": {},
     "output_type": "execute_result"
    }
   ],
   "source": [
    "data[\"RESULT\"]"
   ]
  },
  {
   "cell_type": "code",
   "execution_count": 104,
   "id": "f2f294d2",
   "metadata": {},
   "outputs": [
    {
     "data": {
      "text/plain": "array(['Not Anemia', 'Anemia'], dtype=object)"
     },
     "execution_count": 104,
     "metadata": {},
     "output_type": "execute_result"
    }
   ],
   "source": [
    "data[\"RESULT\"].unique()"
   ]
  },
  {
   "cell_type": "code",
   "execution_count": 105,
   "id": "0fbe4242",
   "metadata": {},
   "outputs": [
    {
     "data": {
      "text/plain": "Not Anemia    801\nAnemia        620\nName: RESULT, dtype: int64"
     },
     "execution_count": 105,
     "metadata": {},
     "output_type": "execute_result"
    }
   ],
   "source": [
    "data[\"RESULT\"].value_counts()"
   ]
  },
  {
   "cell_type": "code",
   "execution_count": 106,
   "id": "8c53b259",
   "metadata": {},
   "outputs": [
    {
     "data": {
      "text/plain": "<AxesSubplot:>"
     },
     "execution_count": 106,
     "metadata": {},
     "output_type": "execute_result"
    },
    {
     "data": {
      "text/plain": "<Figure size 432x288 with 1 Axes>",
      "image/png": "[encoded data removed]"
     },
     "metadata": {
      "needs_background": "light"
     },
     "output_type": "display_data"
    }
   ],
   "source": [
    "data[\"RESULT\"].value_counts().plot.bar()"
   ]
  },
  {
   "cell_type": "code",
   "execution_count": 107,
   "id": "68bfd4d4",
   "metadata": {},
   "outputs": [
    {
     "data": {
      "text/plain": "<Figure size 432x288 with 1 Axes>",
      "image/png": "[encoded data removed]"
     },
     "metadata": {
      "needs_background": "light"
     },
     "output_type": "display_data"
    }
   ],
   "source": [
    "data[\"RESULT\"].value_counts().plot.bar()\n",
    "plt.title(\"Anemia Prediction\")\n",
    "plt.xlabel(\"presence of animeia or absence of anemia\")\n",
    "plt.ylabel(\"counts of anemiac patients\")\n",
    "plt.xticks(rotation=0)\n",
    "plt.show()"
   ]
  },
  {
   "cell_type": "code",
   "execution_count": 108,
   "id": "1f0c2321",
   "metadata": {},
   "outputs": [
    {
     "data": {
      "text/plain": "<Figure size 432x288 with 1 Axes>",
      "image/png": "[encoded data removed]"
     },
     "metadata": {
      "needs_background": "light"
     },
     "output_type": "display_data"
    }
   ],
   "source": [
    "data[\"Hemoglobin\"].value_counts().plot.bar()\n",
    "plt.title(\"Anemia Prediction\")\n",
    "plt.xlabel(\"presence of animeia or absence of anemia\")\n",
    "plt.ylabel(\"counts of anemiac patients\")\n",
    "plt.xticks(rotation=0)\n",
    "plt.show()"
   ]
  },
  {
   "cell_type": "code",
   "execution_count": 109,
   "id": "e1e76fe5",
   "metadata": {},
   "outputs": [
    {
     "data": {
      "text/plain": "<Figure size 432x288 with 1 Axes>",
      "image/png": "[encoded data removed]"
     },
     "metadata": {
      "needs_background": "light"
     },
     "output_type": "display_data"
    }
   ],
   "source": [
    "data[\"MCH\"].value_counts().plot.bar()\n",
    "plt.title(\"Anemia Prediction\")\n",
    "plt.xlabel(\"presence of animeia or absence of anemia\")\n",
    "plt.ylabel(\"counts of anemiac patients\")\n",
    "plt.xticks(rotation=0)\n",
    "plt.show()"
   ]
  },
  {
   "cell_type": "code",
   "execution_count": 110,
   "id": "ddd4dbe6",
   "metadata": {},
   "outputs": [
    {
     "data": {
      "text/plain": "<Figure size 432x288 with 1 Axes>",
      "image/png": "[encoded data removed]"
     },
     "metadata": {
      "needs_background": "light"
     },
     "output_type": "display_data"
    }
   ],
   "source": [
    "data[\"MCH\"].value_counts().plot.bar()\n",
    "plt.title(\"Anemia Prediction\")\n",
    "plt.xlabel(\"presence of animeia or absence of anemia\")\n",
    "plt.ylabel(\"counts of anemiac patients\")\n",
    "plt.xticks(rotation=0)\n",
    "plt.show()"
   ]
  },
  {
   "cell_type": "code",
   "execution_count": 111,
   "id": "47323d9e",
   "metadata": {},
   "outputs": [
    {
     "data": {
      "text/plain": "<Figure size 432x288 with 1 Axes>",
      "image/png": "[encoded data removed]"
     },
     "metadata": {
      "needs_background": "light"
     },
     "output_type": "display_data"
    }
   ],
   "source": [
    "data[\"MCV\"].value_counts().plot.bar()\n",
    "plt.title(\"Anemia Prediction\")\n",
    "plt.xlabel(\"presence of animeia or absence of anemia\")\n",
    "plt.ylabel(\"counts of anemiac patients\")\n",
    "plt.xticks(rotation=0)\n",
    "plt.show()"
   ]
  },
  {
   "cell_type": "code",
   "execution_count": 112,
   "id": "d3ea738f",
   "metadata": {},
   "outputs": [
    {
     "data": {
      "text/plain": "<Figure size 432x288 with 1 Axes>",
      "image/png": "[encoded data removed]"
     },
     "metadata": {
      "needs_background": "light"
     },
     "output_type": "display_data"
    }
   ],
   "source": [
    "data[\"GENDER\"].value_counts().plot.bar()\n",
    "plt.title(\"Anemia Prediction\")\n",
    "plt.xlabel(\"MALE FEMALE \")\n",
    "plt.ylabel(\"COUNT OF MALE FEMALE\")\n",
    "plt.xticks(rotation=0)\n",
    "plt.show()"
   ]
  },
  {
   "cell_type": "code",
   "execution_count": 113,
   "id": "2ab3e976",
   "metadata": {},
   "outputs": [],
   "source": [
    "X=data[[\"Hemoglobin\", \"MCH\", \"MCHC\", \"MCV\", \"GENDER\"]]"
   ]
  },
  {
   "cell_type": "code",
   "execution_count": 114,
   "id": "c1fa30c9",
   "metadata": {},
   "outputs": [
    {
     "data": {
      "text/plain": "      Hemoglobin   MCH  MCHC   MCV  GENDER\n0           14.9  22.7  29.1  83.7       1\n1           15.9  25.4  28.3  72.0       0\n2            9.0  21.5  29.6  71.2       0\n3           14.9  16.0  31.4  87.5       0\n4           14.7  22.0  28.2  99.5       1\n...          ...   ...   ...   ...     ...\n1416        10.6  25.4  28.2  82.9       0\n1417        12.1  28.3  30.4  86.9       1\n1418        13.1  17.7  28.1  80.7       1\n1419        14.3  16.2  29.5  95.2       0\n1420        11.8  21.2  28.4  98.1       0\n\n[1421 rows x 5 columns]",
      "text/html": "<div>\n<style scoped>\n    .dataframe tbody tr th:only-of-type {\n        vertical-align: middle;\n    }\n\n    .dataframe tbody tr th {\n        vertical-align: top;\n    }\n\n    .dataframe thead th {\n        text-align: right;\n    }\n</style>\n<table border=\"1\" class=\"dataframe\">\n  <thead>\n    <tr style=\"text-align: right;\">\n      <th></th>\n      <th>Hemoglobin</th>\n      <th>MCH</th>\n      <th>MCHC</th>\n      <th>MCV</th>\n      <th>GENDER</th>\n    </tr>\n  </thead>\n  <tbody>\n    <tr>\n      <th>0</th>\n      <td>14.9</td>\n      <td>22.7</td>\n      <td>29.1</td>\n      <td>83.7</td>\n      <td>1</td>\n    </tr>\n    <tr>\n      <th>1</th>\n      <td>15.9</td>\n      <td>25.4</td>\n      <td>28.3</td>\n      <td>72.0</td>\n      <td>0</td>\n    </tr>\n    <tr>\n      <th>2</th>\n      <td>9.0</td>\n      <td>21.5</td>\n      <td>29.6</td>\n      <td>71.2</td>\n      <td>0</td>\n    </tr>\n    <tr>\n      <th>3</th>\n      <td>14.9</td>\n      <td>16.0</td>\n      <td>31.4</td>\n      <td>87.5</td>\n      <td>0</td>\n    </tr>\n    <tr>\n      <th>4</th>\n      <td>14.7</td>\n      <td>22.0</td>\n      <td>28.2</td>\n      <td>99.5</td>\n      <td>1</td>\n    </tr>\n    <tr>\n      <th>...</th>\n      <td>...</td>\n      <td>...</td>\n      <td>...</td>\n      <td>...</td>\n      <td>...</td>\n    </tr>\n    <tr>\n      <th>1416</th>\n      <td>10.6</td>\n      <td>25.4</td>\n      <td>28.2</td>\n      <td>82.9</td>\n      <td>0</td>\n    </tr>\n    <tr>\n      <th>1417</th>\n      <td>12.1</td>\n      <td>28.3</td>\n      <td>30.4</td>\n      <td>86.9</td>\n      <td>1</td>\n    </tr>\n    <tr>\n      <th>1418</th>\n      <td>13.1</td>\n      <td>17.7</td>\n      <td>28.1</td>\n      <td>80.7</td>\n      <td>1</td>\n    </tr>\n    <tr>\n      <th>1419</th>\n      <td>14.3</td>\n      <td>16.2</td>\n      <td>29.5</td>\n      <td>95.2</td>\n      <td>0</td>\n    </tr>\n    <tr>\n      <th>1420</th>\n      <td>11.8</td>\n      <td>21.2</td>\n      <td>28.4</td>\n      <td>98.1</td>\n      <td>0</td>\n    </tr>\n  </tbody>\n</table>\n<p>1421 rows × 5 columns</p>\n</div>"
     },
     "execution_count": 114,
     "metadata": {},
     "output_type": "execute_result"
    }
   ],
   "source": [
    "X"
   ]
  },
  {
   "cell_type": "code",
   "execution_count": 115,
   "id": "fc9a2667",
   "metadata": {},
   "outputs": [
    {
     "name": "stdout",
     "output_type": "stream",
     "text": [
      "<class 'pandas.core.frame.DataFrame'>\n",
      "RangeIndex: 1421 entries, 0 to 1420\n",
      "Data columns (total 5 columns):\n",
      " #   Column      Non-Null Count  Dtype  \n",
      "---  ------      --------------  -----  \n",
      " 0   Hemoglobin  1421 non-null   float64\n",
      " 1   MCH         1421 non-null   float64\n",
      " 2   MCHC        1421 non-null   float64\n",
      " 3   MCV         1421 non-null   float64\n",
      " 4   GENDER      1421 non-null   int64  \n",
      "dtypes: float64(4), int64(1)\n",
      "memory usage: 55.6 KB\n"
     ]
    }
   ],
   "source": [
    "X.info()"
   ]
  },
  {
   "cell_type": "code",
   "execution_count": 116,
   "id": "8965da06",
   "metadata": {},
   "outputs": [
    {
     "data": {
      "text/plain": "   Hemoglobin   MCH  MCHC   MCV  GENDER\n0        14.9  22.7  29.1  83.7       1\n1        15.9  25.4  28.3  72.0       0\n2         9.0  21.5  29.6  71.2       0\n3        14.9  16.0  31.4  87.5       0\n4        14.7  22.0  28.2  99.5       1",
      "text/html": "<div>\n<style scoped>\n    .dataframe tbody tr th:only-of-type {\n        vertical-align: middle;\n    }\n\n    .dataframe tbody tr th {\n        vertical-align: top;\n    }\n\n    .dataframe thead th {\n        text-align: right;\n    }\n</style>\n<table border=\"1\" class=\"dataframe\">\n  <thead>\n    <tr style=\"text-align: right;\">\n      <th></th>\n      <th>Hemoglobin</th>\n      <th>MCH</th>\n      <th>MCHC</th>\n      <th>MCV</th>\n      <th>GENDER</th>\n    </tr>\n  </thead>\n  <tbody>\n    <tr>\n      <th>0</th>\n      <td>14.9</td>\n      <td>22.7</td>\n      <td>29.1</td>\n      <td>83.7</td>\n      <td>1</td>\n    </tr>\n    <tr>\n      <th>1</th>\n      <td>15.9</td>\n      <td>25.4</td>\n      <td>28.3</td>\n      <td>72.0</td>\n      <td>0</td>\n    </tr>\n    <tr>\n      <th>2</th>\n      <td>9.0</td>\n      <td>21.5</td>\n      <td>29.6</td>\n      <td>71.2</td>\n      <td>0</td>\n    </tr>\n    <tr>\n      <th>3</th>\n      <td>14.9</td>\n      <td>16.0</td>\n      <td>31.4</td>\n      <td>87.5</td>\n      <td>0</td>\n    </tr>\n    <tr>\n      <th>4</th>\n      <td>14.7</td>\n      <td>22.0</td>\n      <td>28.2</td>\n      <td>99.5</td>\n      <td>1</td>\n    </tr>\n  </tbody>\n</table>\n</div>"
     },
     "execution_count": 116,
     "metadata": {},
     "output_type": "execute_result"
    }
   ],
   "source": [
    "X.head()"
   ]
  },
  {
   "cell_type": "code",
   "execution_count": 117,
   "id": "e3429196",
   "metadata": {},
   "outputs": [
    {
     "data": {
      "text/plain": "      Hemoglobin   MCH  MCHC   MCV  GENDER\n1416        10.6  25.4  28.2  82.9       0\n1417        12.1  28.3  30.4  86.9       1\n1418        13.1  17.7  28.1  80.7       1\n1419        14.3  16.2  29.5  95.2       0\n1420        11.8  21.2  28.4  98.1       0",
      "text/html": "<div>\n<style scoped>\n    .dataframe tbody tr th:only-of-type {\n        vertical-align: middle;\n    }\n\n    .dataframe tbody tr th {\n        vertical-align: top;\n    }\n\n    .dataframe thead th {\n        text-align: right;\n    }\n</style>\n<table border=\"1\" class=\"dataframe\">\n  <thead>\n    <tr style=\"text-align: right;\">\n      <th></th>\n      <th>Hemoglobin</th>\n      <th>MCH</th>\n      <th>MCHC</th>\n      <th>MCV</th>\n      <th>GENDER</th>\n    </tr>\n  </thead>\n  <tbody>\n    <tr>\n      <th>1416</th>\n      <td>10.6</td>\n      <td>25.4</td>\n      <td>28.2</td>\n      <td>82.9</td>\n      <td>0</td>\n    </tr>\n    <tr>\n      <th>1417</th>\n      <td>12.1</td>\n      <td>28.3</td>\n      <td>30.4</td>\n      <td>86.9</td>\n      <td>1</td>\n    </tr>\n    <tr>\n      <th>1418</th>\n      <td>13.1</td>\n      <td>17.7</td>\n      <td>28.1</td>\n      <td>80.7</td>\n      <td>1</td>\n    </tr>\n    <tr>\n      <th>1419</th>\n      <td>14.3</td>\n      <td>16.2</td>\n      <td>29.5</td>\n      <td>95.2</td>\n      <td>0</td>\n    </tr>\n    <tr>\n      <th>1420</th>\n      <td>11.8</td>\n      <td>21.2</td>\n      <td>28.4</td>\n      <td>98.1</td>\n      <td>0</td>\n    </tr>\n  </tbody>\n</table>\n</div>"
     },
     "execution_count": 117,
     "metadata": {},
     "output_type": "execute_result"
    }
   ],
   "source": [
    "X.tail()"
   ]
  },
  {
   "cell_type": "code",
   "execution_count": 118,
   "id": "22368701",
   "metadata": {},
   "outputs": [],
   "source": [
    "Y=data[[\"RESULT\"]]"
   ]
  },
  {
   "cell_type": "code",
   "execution_count": 119,
   "id": "9d15a3a3",
   "metadata": {},
   "outputs": [
    {
     "data": {
      "text/plain": "          RESULT\n0     Not Anemia\n1     Not Anemia\n2         Anemia\n3     Not Anemia\n4     Not Anemia\n...          ...\n1416      Anemia\n1417      Anemia\n1418      Anemia\n1419  Not Anemia\n1420      Anemia\n\n[1421 rows x 1 columns]",
      "text/html": "<div>\n<style scoped>\n    .dataframe tbody tr th:only-of-type {\n        vertical-align: middle;\n    }\n\n    .dataframe tbody tr th {\n        vertical-align: top;\n    }\n\n    .dataframe thead th {\n        text-align: right;\n    }\n</style>\n<table border=\"1\" class=\"dataframe\">\n  <thead>\n    <tr style=\"text-align: right;\">\n      <th></th>\n      <th>RESULT</th>\n    </tr>\n  </thead>\n  <tbody>\n    <tr>\n      <th>0</th>\n      <td>Not Anemia</td>\n    </tr>\n    <tr>\n      <th>1</th>\n      <td>Not Anemia</td>\n    </tr>\n    <tr>\n      <th>2</th>\n      <td>Anemia</td>\n    </tr>\n    <tr>\n      <th>3</th>\n      <td>Not Anemia</td>\n    </tr>\n    <tr>\n      <th>4</th>\n      <td>Not Anemia</td>\n    </tr>\n    <tr>\n      <th>...</th>\n      <td>...</td>\n    </tr>\n    <tr>\n      <th>1416</th>\n      <td>Anemia</td>\n    </tr>\n    <tr>\n      <th>1417</th>\n      <td>Anemia</td>\n    </tr>\n    <tr>\n      <th>1418</th>\n      <td>Anemia</td>\n    </tr>\n    <tr>\n      <th>1419</th>\n      <td>Not Anemia</td>\n    </tr>\n    <tr>\n      <th>1420</th>\n      <td>Anemia</td>\n    </tr>\n  </tbody>\n</table>\n<p>1421 rows × 1 columns</p>\n</div>"
     },
     "execution_count": 119,
     "metadata": {},
     "output_type": "execute_result"
    }
   ],
   "source": [
    "Y"
   ]
  },
  {
   "cell_type": "code",
   "execution_count": 120,
   "id": "26fc5aef",
   "metadata": {},
   "outputs": [
    {
     "data": {
      "text/plain": "       RESULT\n0  Not Anemia\n1  Not Anemia\n2      Anemia\n3  Not Anemia\n4  Not Anemia",
      "text/html": "<div>\n<style scoped>\n    .dataframe tbody tr th:only-of-type {\n        vertical-align: middle;\n    }\n\n    .dataframe tbody tr th {\n        vertical-align: top;\n    }\n\n    .dataframe thead th {\n        text-align: right;\n    }\n</style>\n<table border=\"1\" class=\"dataframe\">\n  <thead>\n    <tr style=\"text-align: right;\">\n      <th></th>\n      <th>RESULT</th>\n    </tr>\n  </thead>\n  <tbody>\n    <tr>\n      <th>0</th>\n      <td>Not Anemia</td>\n    </tr>\n    <tr>\n      <th>1</th>\n      <td>Not Anemia</td>\n    </tr>\n    <tr>\n      <th>2</th>\n      <td>Anemia</td>\n    </tr>\n    <tr>\n      <th>3</th>\n      <td>Not Anemia</td>\n    </tr>\n    <tr>\n      <th>4</th>\n      <td>Not Anemia</td>\n    </tr>\n  </tbody>\n</table>\n</div>"
     },
     "execution_count": 120,
     "metadata": {},
     "output_type": "execute_result"
    }
   ],
   "source": [
    "Y.head()"
   ]
  },
  {
   "cell_type": "code",
   "execution_count": 121,
   "id": "736aed9a",
   "metadata": {},
   "outputs": [
    {
     "data": {
      "text/plain": "          RESULT\n1416      Anemia\n1417      Anemia\n1418      Anemia\n1419  Not Anemia\n1420      Anemia",
      "text/html": "<div>\n<style scoped>\n    .dataframe tbody tr th:only-of-type {\n        vertical-align: middle;\n    }\n\n    .dataframe tbody tr th {\n        vertical-align: top;\n    }\n\n    .dataframe thead th {\n        text-align: right;\n    }\n</style>\n<table border=\"1\" class=\"dataframe\">\n  <thead>\n    <tr style=\"text-align: right;\">\n      <th></th>\n      <th>RESULT</th>\n    </tr>\n  </thead>\n  <tbody>\n    <tr>\n      <th>1416</th>\n      <td>Anemia</td>\n    </tr>\n    <tr>\n      <th>1417</th>\n      <td>Anemia</td>\n    </tr>\n    <tr>\n      <th>1418</th>\n      <td>Anemia</td>\n    </tr>\n    <tr>\n      <th>1419</th>\n      <td>Not Anemia</td>\n    </tr>\n    <tr>\n      <th>1420</th>\n      <td>Anemia</td>\n    </tr>\n  </tbody>\n</table>\n</div>"
     },
     "execution_count": 121,
     "metadata": {},
     "output_type": "execute_result"
    }
   ],
   "source": [
    "Y.tail()"
   ]
  },
  {
   "cell_type": "code",
   "execution_count": 122,
   "id": "3dab3a9f",
   "metadata": {},
   "outputs": [],
   "source": [
    "from sklearn import metrics\n",
    "from sklearn.model_selection import train_test_split\n",
    "import warnings\n",
    "warnings.filterwarnings('ignore')"
   ]
  },
  {
   "cell_type": "code",
   "execution_count": 123,
   "id": "aae5e353",
   "metadata": {},
   "outputs": [],
   "source": [
    "x_train,x_test,y_train,y_test= train_test_split(X,Y,test_size=0.40,random_state=25)"
   ]
  },
  {
   "cell_type": "code",
   "execution_count": 124,
   "id": "5154d5f2",
   "metadata": {},
   "outputs": [
    {
     "data": {
      "text/plain": "(852, 5)"
     },
     "execution_count": 124,
     "metadata": {},
     "output_type": "execute_result"
    }
   ],
   "source": [
    "x_train.shape"
   ]
  },
  {
   "cell_type": "code",
   "execution_count": 125,
   "id": "64348b07",
   "metadata": {},
   "outputs": [
    {
     "data": {
      "text/plain": "(852, 1)"
     },
     "execution_count": 125,
     "metadata": {},
     "output_type": "execute_result"
    }
   ],
   "source": [
    "y_train.shape"
   ]
  },
  {
   "cell_type": "code",
   "execution_count": 126,
   "id": "6f1443b4",
   "metadata": {},
   "outputs": [
    {
     "data": {
      "text/plain": "(569, 5)"
     },
     "execution_count": 126,
     "metadata": {},
     "output_type": "execute_result"
    }
   ],
   "source": [
    "x_test.shape"
   ]
  },
  {
   "cell_type": "code",
   "execution_count": 127,
   "id": "9c730f3b",
   "metadata": {},
   "outputs": [
    {
     "data": {
      "text/plain": "      Hemoglobin   MCH  MCHC   MCV  GENDER\n472         16.7  20.1  31.4  73.0       1\n53          16.9  25.5  29.6  83.2       0\n955         13.6  22.2  29.6  96.3       1\n266         14.7  23.4  29.9  85.3       1\n1143        11.7  19.9  28.9  71.6       0",
      "text/html": "<div>\n<style scoped>\n    .dataframe tbody tr th:only-of-type {\n        vertical-align: middle;\n    }\n\n    .dataframe tbody tr th {\n        vertical-align: top;\n    }\n\n    .dataframe thead th {\n        text-align: right;\n    }\n</style>\n<table border=\"1\" class=\"dataframe\">\n  <thead>\n    <tr style=\"text-align: right;\">\n      <th></th>\n      <th>Hemoglobin</th>\n      <th>MCH</th>\n      <th>MCHC</th>\n      <th>MCV</th>\n      <th>GENDER</th>\n    </tr>\n  </thead>\n  <tbody>\n    <tr>\n      <th>472</th>\n      <td>16.7</td>\n      <td>20.1</td>\n      <td>31.4</td>\n      <td>73.0</td>\n      <td>1</td>\n    </tr>\n    <tr>\n      <th>53</th>\n      <td>16.9</td>\n      <td>25.5</td>\n      <td>29.6</td>\n      <td>83.2</td>\n      <td>0</td>\n    </tr>\n    <tr>\n      <th>955</th>\n      <td>13.6</td>\n      <td>22.2</td>\n      <td>29.6</td>\n      <td>96.3</td>\n      <td>1</td>\n    </tr>\n    <tr>\n      <th>266</th>\n      <td>14.7</td>\n      <td>23.4</td>\n      <td>29.9</td>\n      <td>85.3</td>\n      <td>1</td>\n    </tr>\n    <tr>\n      <th>1143</th>\n      <td>11.7</td>\n      <td>19.9</td>\n      <td>28.9</td>\n      <td>71.6</td>\n      <td>0</td>\n    </tr>\n  </tbody>\n</table>\n</div>"
     },
     "execution_count": 127,
     "metadata": {},
     "output_type": "execute_result"
    }
   ],
   "source": [
    "x_train.head()"
   ]
  },
  {
   "cell_type": "code",
   "execution_count": 128,
   "id": "72558a5c",
   "metadata": {},
   "outputs": [
    {
     "data": {
      "text/plain": "          RESULT\n472   Not Anemia\n53    Not Anemia\n955   Not Anemia\n266   Not Anemia\n1143      Anemia",
      "text/html": "<div>\n<style scoped>\n    .dataframe tbody tr th:only-of-type {\n        vertical-align: middle;\n    }\n\n    .dataframe tbody tr th {\n        vertical-align: top;\n    }\n\n    .dataframe thead th {\n        text-align: right;\n    }\n</style>\n<table border=\"1\" class=\"dataframe\">\n  <thead>\n    <tr style=\"text-align: right;\">\n      <th></th>\n      <th>RESULT</th>\n    </tr>\n  </thead>\n  <tbody>\n    <tr>\n      <th>472</th>\n      <td>Not Anemia</td>\n    </tr>\n    <tr>\n      <th>53</th>\n      <td>Not Anemia</td>\n    </tr>\n    <tr>\n      <th>955</th>\n      <td>Not Anemia</td>\n    </tr>\n    <tr>\n      <th>266</th>\n      <td>Not Anemia</td>\n    </tr>\n    <tr>\n      <th>1143</th>\n      <td>Anemia</td>\n    </tr>\n  </tbody>\n</table>\n</div>"
     },
     "execution_count": 128,
     "metadata": {},
     "output_type": "execute_result"
    }
   ],
   "source": [
    "y_train.head()"
   ]
  },
  {
   "cell_type": "code",
   "execution_count": 129,
   "id": "13497ad9",
   "metadata": {},
   "outputs": [
    {
     "data": {
      "text/plain": "          RESULT\n201       Anemia\n931       Anemia\n1084  Not Anemia\n735   Not Anemia\n119   Not Anemia\n...          ...\n800   Not Anemia\n699       Anemia\n949       Anemia\n1235      Anemia\n532   Not Anemia\n\n[569 rows x 1 columns]",
      "text/html": "<div>\n<style scoped>\n    .dataframe tbody tr th:only-of-type {\n        vertical-align: middle;\n    }\n\n    .dataframe tbody tr th {\n        vertical-align: top;\n    }\n\n    .dataframe thead th {\n        text-align: right;\n    }\n</style>\n<table border=\"1\" class=\"dataframe\">\n  <thead>\n    <tr style=\"text-align: right;\">\n      <th></th>\n      <th>RESULT</th>\n    </tr>\n  </thead>\n  <tbody>\n    <tr>\n      <th>201</th>\n      <td>Anemia</td>\n    </tr>\n    <tr>\n      <th>931</th>\n      <td>Anemia</td>\n    </tr>\n    <tr>\n      <th>1084</th>\n      <td>Not Anemia</td>\n    </tr>\n    <tr>\n      <th>735</th>\n      <td>Not Anemia</td>\n    </tr>\n    <tr>\n      <th>119</th>\n      <td>Not Anemia</td>\n    </tr>\n    <tr>\n      <th>...</th>\n      <td>...</td>\n    </tr>\n    <tr>\n      <th>800</th>\n      <td>Not Anemia</td>\n    </tr>\n    <tr>\n      <th>699</th>\n      <td>Anemia</td>\n    </tr>\n    <tr>\n      <th>949</th>\n      <td>Anemia</td>\n    </tr>\n    <tr>\n      <th>1235</th>\n      <td>Anemia</td>\n    </tr>\n    <tr>\n      <th>532</th>\n      <td>Not Anemia</td>\n    </tr>\n  </tbody>\n</table>\n<p>569 rows × 1 columns</p>\n</div>"
     },
     "execution_count": 129,
     "metadata": {},
     "output_type": "execute_result"
    }
   ],
   "source": [
    "y_test"
   ]
  },
  {
   "cell_type": "code",
   "execution_count": 130,
   "id": "27c29bb1",
   "metadata": {},
   "outputs": [
    {
     "name": "stdout",
     "output_type": "stream",
     "text": [
      "100.0\n"
     ]
    }
   ],
   "source": [
    "from sklearn.ensemble import RandomForestClassifier\n",
    "RF=RandomForestClassifier(max_features='auto', n_estimators=200)\n",
    "RF.fit(x_train, y_train)\n",
    "p3=RF.score(x_test,y_test)*100\n",
    "print(p3)"
   ]
  },
  {
   "cell_type": "code",
   "execution_count": 131,
   "id": "b4402c03",
   "metadata": {},
   "outputs": [
    {
     "name": "stdout",
     "output_type": "stream",
     "text": [
      "98.76977152899823\n"
     ]
    }
   ],
   "source": [
    "from sklearn.linear_model import LogisticRegression\n",
    "LR=LogisticRegression(random_state=0,max_iter=3000)\n",
    "LR.fit(x_train, y_train)\n",
    "p1=LR.score(x_test,y_test)*100\n",
    "print(p1)"
   ]
  },
  {
   "cell_type": "code",
   "execution_count": 132,
   "id": "93e06a33",
   "metadata": {},
   "outputs": [
    {
     "name": "stdout",
     "output_type": "stream",
     "text": [
      "100.0\n"
     ]
    }
   ],
   "source": [
    "from sklearn.ensemble import AdaBoostClassifier\n",
    "ADA=AdaBoostClassifier()\n",
    "ADA.fit(x_train, y_train)\n",
    "p2=ADA.score(x_test,y_test)*100\n",
    "print(p2)"
   ]
  },
  {
   "cell_type": "code",
   "execution_count": 133,
   "id": "16a7fb01",
   "metadata": {},
   "outputs": [
    {
     "name": "stdout",
     "output_type": "stream",
     "text": [
      "100.0\n"
     ]
    }
   ],
   "source": [
    "from sklearn.tree import DecisionTreeClassifier\n",
    "DC=DecisionTreeClassifier()\n",
    "DC.fit(x_train, y_train)\n",
    "p4=DC.score(x_test,y_test)*100\n",
    "print(p4)"
   ]
  },
  {
   "cell_type": "code",
   "execution_count": 134,
   "id": "439ec40c",
   "metadata": {},
   "outputs": [
    {
     "name": "stdout",
     "output_type": "stream",
     "text": [
      "92.2671353251318\n"
     ]
    }
   ],
   "source": [
    "from sklearn.naive_bayes import GaussianNB\n",
    "GB=GaussianNB()\n",
    "GB.fit(x_train,y_train)\n",
    "p5=GB.score(x_test,y_test)*100\n",
    "print(p5)"
   ]
  },
  {
   "cell_type": "code",
   "execution_count": 135,
   "outputs": [
    {
     "name": "stdout",
     "output_type": "stream",
     "text": [
      "99.12126537785588\n"
     ]
    }
   ],
   "source": [
    "from sklearn.svm import SVC\n",
    "svm_classifier = SVC(kernel = 'linear',random_state = 0)\n",
    "svm_classifier.fit(x_train,y_train)\n",
    "\n",
    "p6=svm_classifier.score(x_test,y_test)*100\n",
    "print(p6)"
   ],
   "metadata": {
    "collapsed": false,
    "pycharm": {
     "name": "#%%\n"
    }
   }
  },
  {
   "cell_type": "code",
   "execution_count": 136,
   "outputs": [
    {
     "name": "stdout",
     "output_type": "stream",
     "text": [
      "100.0\n"
     ]
    }
   ],
   "source": [
    "from sklearn.ensemble import BaggingClassifier\n",
    "\n",
    "dt_classifier = DecisionTreeClassifier(max_depth = 6, random_state = 1 )\n",
    "\n",
    "bc_classifier = BaggingClassifier(n_estimators = 300, n_jobs= -1 , random_state=1)\n",
    "\n",
    "bc_classifier.fit(x_train,y_train)\n",
    "\n",
    "p7=bc_classifier.score(x_test,y_test)*100\n",
    "print(p7)"
   ],
   "metadata": {
    "collapsed": false,
    "pycharm": {
     "name": "#%%\n"
    }
   }
  },
  {
   "cell_type": "code",
   "execution_count": 137,
   "outputs": [
    {
     "name": "stdout",
     "output_type": "stream",
     "text": [
      "[LightGBM] [Info] Number of positive: 492, number of negative: 360\n",
      "[LightGBM] [Info] Auto-choosing col-wise multi-threading, the overhead of testing was 0.000059 seconds.\n",
      "You can set `force_col_wise=true` to remove the overhead.\n",
      "[LightGBM] [Info] Total Bins 477\n",
      "[LightGBM] [Info] Number of data points in the train set: 852, number of used features: 5\n",
      "[LightGBM] [Info] [binary:BoostFromScore]: pavg=0.577465 -> initscore=0.312375\n",
      "[LightGBM] [Info] Start training from score 0.312375\n",
      "[LightGBM] [Warning] No further splits with positive gain, best gain: -inf\n",
      "[LightGBM] [Warning] No further splits with positive gain, best gain: -inf\n",
      "[LightGBM] [Warning] No further splits with positive gain, best gain: -inf\n",
      "[LightGBM] [Warning] No further splits with positive gain, best gain: -inf\n",
      "[LightGBM] [Warning] No further splits with positive gain, best gain: -inf\n",
      "[LightGBM] [Warning] No further splits with positive gain, best gain: -inf\n",
      "[LightGBM] [Warning] No further splits with positive gain, best gain: -inf\n",
      "[LightGBM] [Warning] No further splits with positive gain, best gain: -inf\n",
      "[LightGBM] [Warning] No further splits with positive gain, best gain: -inf\n",
      "[LightGBM] [Warning] No further splits with positive gain, best gain: -inf\n",
      "[LightGBM] [Warning] No further splits with positive gain, best gain: -inf\n",
      "[LightGBM] [Warning] No further splits with positive gain, best gain: -inf\n",
      "[LightGBM] [Warning] No further splits with positive gain, best gain: -inf\n",
      "[LightGBM] [Warning] No further splits with positive gain, best gain: -inf\n",
      "[LightGBM] [Warning] No further splits with positive gain, best gain: -inf\n",
      "[LightGBM] [Warning] No further splits with positive gain, best gain: -inf\n",
      "[LightGBM] [Warning] No further splits with positive gain, best gain: -inf\n",
      "[LightGBM] [Warning] No further splits with positive gain, best gain: -inf\n",
      "[LightGBM] [Warning] No further splits with positive gain, best gain: -inf\n",
      "[LightGBM] [Warning] No further splits with positive gain, best gain: -inf\n",
      "[LightGBM] [Warning] No further splits with positive gain, best gain: -inf\n",
      "[LightGBM] [Warning] No further splits with positive gain, best gain: -inf\n",
      "[LightGBM] [Warning] No further splits with positive gain, best gain: -inf\n",
      "[LightGBM] [Warning] No further splits with positive gain, best gain: -inf\n",
      "[LightGBM] [Warning] No further splits with positive gain, best gain: -inf\n",
      "[LightGBM] [Warning] No further splits with positive gain, best gain: -inf\n",
      "[LightGBM] [Warning] No further splits with positive gain, best gain: -inf\n",
      "[LightGBM] [Warning] No further splits with positive gain, best gain: -inf\n",
      "[LightGBM] [Warning] No further splits with positive gain, best gain: -inf\n",
      "[LightGBM] [Warning] No further splits with positive gain, best gain: -inf\n",
      "[LightGBM] [Warning] No further splits with positive gain, best gain: -inf\n",
      "[LightGBM] [Warning] No further splits with positive gain, best gain: -inf\n",
      "[LightGBM] [Warning] No further splits with positive gain, best gain: -inf\n",
      "[LightGBM] [Warning] No further splits with positive gain, best gain: -inf\n",
      "[LightGBM] [Warning] No further splits with positive gain, best gain: -inf\n",
      "[LightGBM] [Warning] No further splits with positive gain, best gain: -inf\n",
      "[LightGBM] [Warning] No further splits with positive gain, best gain: -inf\n",
      "[LightGBM] [Warning] No further splits with positive gain, best gain: -inf\n",
      "[LightGBM] [Warning] No further splits with positive gain, best gain: -inf\n",
      "[LightGBM] [Warning] No further splits with positive gain, best gain: -inf\n",
      "[LightGBM] [Warning] No further splits with positive gain, best gain: -inf\n",
      "[LightGBM] [Warning] No further splits with positive gain, best gain: -inf\n",
      "[LightGBM] [Warning] No further splits with positive gain, best gain: -inf\n",
      "[LightGBM] [Warning] No further splits with positive gain, best gain: -inf\n",
      "[LightGBM] [Warning] No further splits with positive gain, best gain: -inf\n",
      "[LightGBM] [Warning] No further splits with positive gain, best gain: -inf\n",
      "[LightGBM] [Warning] No further splits with positive gain, best gain: -inf\n",
      "[LightGBM] [Warning] No further splits with positive gain, best gain: -inf\n",
      "[LightGBM] [Warning] No further splits with positive gain, best gain: -inf\n",
      "[LightGBM] [Warning] No further splits with positive gain, best gain: -inf\n",
      "[LightGBM] [Warning] No further splits with positive gain, best gain: -inf\n",
      "[LightGBM] [Warning] No further splits with positive gain, best gain: -inf\n",
      "[LightGBM] [Warning] No further splits with positive gain, best gain: -inf\n",
      "[LightGBM] [Warning] No further splits with positive gain, best gain: -inf\n",
      "[LightGBM] [Warning] No further splits with positive gain, best gain: -inf\n",
      "[LightGBM] [Warning] No further splits with positive gain, best gain: -inf\n",
      "[LightGBM] [Warning] No further splits with positive gain, best gain: -inf\n",
      "[LightGBM] [Warning] No further splits with positive gain, best gain: -inf\n",
      "[LightGBM] [Warning] No further splits with positive gain, best gain: -inf\n",
      "[LightGBM] [Warning] No further splits with positive gain, best gain: -inf\n",
      "[LightGBM] [Warning] No further splits with positive gain, best gain: -inf\n",
      "[LightGBM] [Warning] No further splits with positive gain, best gain: -inf\n",
      "[LightGBM] [Warning] No further splits with positive gain, best gain: -inf\n",
      "[LightGBM] [Warning] No further splits with positive gain, best gain: -inf\n",
      "[LightGBM] [Warning] No further splits with positive gain, best gain: -inf\n",
      "[LightGBM] [Warning] No further splits with positive gain, best gain: -inf\n",
      "[LightGBM] [Warning] No further splits with positive gain, best gain: -inf\n",
      "[LightGBM] [Warning] No further splits with positive gain, best gain: -inf\n",
      "[LightGBM] [Warning] No further splits with positive gain, best gain: -inf\n",
      "[LightGBM] [Warning] No further splits with positive gain, best gain: -inf\n",
      "[LightGBM] [Warning] No further splits with positive gain, best gain: -inf\n",
      "[LightGBM] [Warning] No further splits with positive gain, best gain: -inf\n",
      "[LightGBM] [Warning] No further splits with positive gain, best gain: -inf\n",
      "[LightGBM] [Warning] No further splits with positive gain, best gain: -inf\n",
      "[LightGBM] [Warning] No further splits with positive gain, best gain: -inf\n",
      "[LightGBM] [Warning] No further splits with positive gain, best gain: -inf\n",
      "[LightGBM] [Warning] No further splits with positive gain, best gain: -inf\n",
      "[LightGBM] [Warning] No further splits with positive gain, best gain: -inf\n",
      "[LightGBM] [Warning] No further splits with positive gain, best gain: -inf\n",
      "[LightGBM] [Warning] No further splits with positive gain, best gain: -inf\n",
      "[LightGBM] [Warning] No further splits with positive gain, best gain: -inf\n",
      "[LightGBM] [Warning] No further splits with positive gain, best gain: -inf\n",
      "[LightGBM] [Warning] No further splits with positive gain, best gain: -inf\n",
      "[LightGBM] [Warning] No further splits with positive gain, best gain: -inf\n",
      "[LightGBM] [Warning] No further splits with positive gain, best gain: -inf\n",
      "[LightGBM] [Warning] No further splits with positive gain, best gain: -inf\n",
      "[LightGBM] [Warning] No further splits with positive gain, best gain: -inf\n",
      "[LightGBM] [Warning] No further splits with positive gain, best gain: -inf\n",
      "[LightGBM] [Warning] No further splits with positive gain, best gain: -inf\n",
      "[LightGBM] [Warning] No further splits with positive gain, best gain: -inf\n",
      "[LightGBM] [Warning] No further splits with positive gain, best gain: -inf\n",
      "[LightGBM] [Warning] No further splits with positive gain, best gain: -inf\n",
      "[LightGBM] [Warning] No further splits with positive gain, best gain: -inf\n",
      "[LightGBM] [Warning] No further splits with positive gain, best gain: -inf\n",
      "[LightGBM] [Warning] No further splits with positive gain, best gain: -inf\n",
      "[LightGBM] [Warning] No further splits with positive gain, best gain: -inf\n",
      "[LightGBM] [Warning] No further splits with positive gain, best gain: -inf\n",
      "[LightGBM] [Warning] No further splits with positive gain, best gain: -inf\n",
      "[LightGBM] [Warning] No further splits with positive gain, best gain: -inf\n",
      "[LightGBM] [Warning] No further splits with positive gain, best gain: -inf\n",
      "100.0\n"
     ]
    }
   ],
   "source": [
    "from lightgbm import LGBMClassifier\n",
    "\n",
    "lgbm_classifier = LGBMClassifier(random_state=1)\n",
    "\n",
    "lgbm_classifier.fit(x_train,y_train)\n",
    "\n",
    "p8=lgbm_classifier.score(x_test,y_test)*100\n",
    "print(p8)"
   ],
   "metadata": {
    "collapsed": false,
    "pycharm": {
     "name": "#%%\n"
    }
   }
  },
  {
   "cell_type": "code",
   "execution_count": 139,
   "outputs": [],
   "source": [
    "from sklearn.preprocessing import LabelEncoder\n",
    "\n",
    "# Instantiate the encoder\n",
    "le = LabelEncoder()\n",
    "\n",
    "# Fit and transform the target variable\n",
    "y_train_xg = le.fit_transform(y_train)\n",
    "y_test_xg = le.fit_transform(y_test)\n",
    "# Now you can fit the model\n"
   ],
   "metadata": {
    "collapsed": false,
    "pycharm": {
     "name": "#%%\n"
    }
   }
  },
  {
   "cell_type": "code",
   "execution_count": 140,
   "outputs": [
    {
     "name": "stdout",
     "output_type": "stream",
     "text": [
      "100.0\n"
     ]
    }
   ],
   "source": [
    "from xgboost import XGBClassifier\n",
    "\n",
    "xgb_classifier = XGBClassifier()\n",
    "\n",
    "xgb_classifier.fit(x_train,y_train_xg)\n",
    "\n",
    "p9=xgb_classifier.score(x_test,y_test_xg)*100\n",
    "print(p9)"
   ],
   "metadata": {
    "collapsed": false,
    "pycharm": {
     "name": "#%%\n"
    }
   }
  },
  {
   "cell_type": "code",
   "execution_count": 141,
   "id": "8271ebb7",
   "metadata": {},
   "outputs": [
    {
     "data": {
      "text/plain": "<Figure size 1440x432 with 1 Axes>",
      "image/png": "[encoded data removed]"
     },
     "metadata": {
      "needs_background": "light"
     },
     "output_type": "display_data"
    }
   ],
   "source": [
    "a=[\"LogisticRegression\",\"AdaBoostClassifier\",\"RandomForestClassifier\",\"DecisionTreeClassifier\",\"GaussianNB\",\"SVC\",\"BaggingClassifier\",\"LGBMClassifier\",\"XGBClassifier\"]\n",
    "b=[p1,p2,p3,p4,p5,p6,p7,p8,p9]\n",
    "plt.figure(figsize=(20,6))\n",
    "plt.bar(a,b)\n",
    "plt.title(\"Accuracy Graph\")\n",
    "plt.xlabel(\"Algorithm\",labelpad=20)\n",
    "plt.ylabel(\"percentage\")\n",
    "plt.show()"
   ]
  },
  {
   "cell_type": "code",
   "execution_count": null,
   "id": "27e4a207",
   "metadata": {},
   "outputs": [],
   "source": [
    "data.describe()"
   ]
  },
  {
   "cell_type": "code",
   "execution_count": null,
   "id": "7c69cdb8",
   "metadata": {},
   "outputs": [],
   "source": [
    "result=ADA.predict([[13,22.7,35.5,85.6,1]])"
   ]
  },
  {
   "cell_type": "code",
   "execution_count": null,
   "id": "8dbe0ac9",
   "metadata": {},
   "outputs": [],
   "source": [
    "result"
   ]
  },
  {
   "cell_type": "code",
   "execution_count": null,
   "id": "33fdecb8",
   "metadata": {},
   "outputs": [],
   "source": [
    "result_percentage=ADA.predict_proba([[13,22.7,35.5,85.6,1]])"
   ]
  },
  {
   "cell_type": "code",
   "execution_count": null,
   "id": "da05ebb3",
   "metadata": {},
   "outputs": [],
   "source": [
    "result_percentage*100"
   ]
  },
  {
   "cell_type": "code",
   "execution_count": null,
   "id": "1f309896",
   "metadata": {},
   "outputs": [],
   "source": [
    "max(result_percentage[0])"
   ]
  },
  {
   "cell_type": "code",
   "execution_count": null,
   "id": "7072fc4e",
   "metadata": {},
   "outputs": [],
   "source": [
    "max(result_percentage[0])*100"
   ]
  },
  {
   "cell_type": "code",
   "execution_count": null,
   "id": "0a6a4643",
   "metadata": {},
   "outputs": [],
   "source": [
    "round(max(result_percentage[0])*100,2)"
   ]
  },
  {
   "cell_type": "code",
   "execution_count": null,
   "id": "09fe3b0d",
   "metadata": {},
   "outputs": [],
   "source": [
    "print(round(max(result_percentage[0])*100,2),\"presence of\",result[0])"
   ]
  },
  {
   "cell_type": "code",
   "execution_count": null,
   "id": "57f6c654",
   "metadata": {},
   "outputs": [],
   "source": [
    "# from IPython.display import display, Image"
   ]
  },
  {
   "cell_type": "code",
   "execution_count": null,
   "id": "6113758c",
   "metadata": {},
   "outputs": [],
   "source": [
    "# hemo=float(input('Enter the Heamoglobin level'))\n",
    "# mch=float(input('Enter the MCH level'))\n",
    "# mchc=float(input('Enter the MCHc'))\n",
    "# mcv=float(input('Enter the MCV'))\n",
    "# gen=float(input('Enter the Gender'))\n",
    "# result=ADA.predict([[hemo,mch,mchc,mcv,gen]])\n",
    "# result_percentage=ADA.predict_proba([[hemo,mch,mchc,mcv,gen]])\n",
    "# print(round(max(result_percentage[0])*100,2),\"% it is \",result[0])\n",
    "# if(result==\"Anemia\"):\n",
    "#     display(Image(filename='anemia.jpg'))\n",
    "# else:\n",
    "#     display(Image(filename='not anemia.jpg'))\n"
   ]
  },
  {
   "cell_type": "code",
   "execution_count": null,
   "id": "c24229e4",
   "metadata": {},
   "outputs": [],
   "source": [
    "import pickle"
   ]
  },
  {
   "cell_type": "code",
   "execution_count": null,
   "id": "35c927b3",
   "metadata": {},
   "outputs": [],
   "source": [
    "with open(\"animea2.pkl\",\"wb\") as p:\n",
    "    pickle.dump(ADA,p)"
   ]
  },
  {
   "cell_type": "code",
   "execution_count": null,
   "id": "546ea926",
   "metadata": {},
   "outputs": [],
   "source": []
  }
 ],
 "metadata": {
  "kernelspec": {
   "display_name": "Python 3 (ipykernel)",
   "language": "python",
   "name": "python3"
  },
  "language_info": {
   "codemirror_mode": {
    "name": "ipython",
    "version": 3
   },
   "file_extension": ".py",
   "mimetype": "text/x-python",
   "name": "python",
   "nbconvert_exporter": "python",
   "pygments_lexer": "ipython3",
   "version": "3.7.4"
  }
 },
 "nbformat": 4,
 "nbformat_minor": 5
}