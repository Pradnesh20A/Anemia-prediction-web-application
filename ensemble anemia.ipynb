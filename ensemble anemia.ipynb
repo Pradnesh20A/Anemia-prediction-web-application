{
 "cells": [
  {
   "cell_type": "code",
   "execution_count": 74,
   "id": "4d662ab6",
   "metadata": {
    "ExecuteTime": {
     "end_time": "2024-01-27T18:30:44.569552200Z",
     "start_time": "2024-01-27T18:30:44.553949400Z"
    }
   },
   "outputs": [],
   "source": [
    "import pandas as pd\n",
    "import numpy as np\n",
    "import matplotlib.pyplot as plt\n",
    "import seaborn as sns\n",
    "import warnings\n",
    "warnings.filterwarnings(\"ignore\")"
   ]
  },
  {
   "cell_type": "code",
   "execution_count": 75,
   "id": "40476422",
   "metadata": {
    "ExecuteTime": {
     "end_time": "2024-01-27T18:30:49.228137Z",
     "start_time": "2024-01-27T18:30:49.165318200Z"
    }
   },
   "outputs": [],
   "source": [
    "data=pd.read_csv(\"Anaemia.csv\")"
   ]
  },
  {
   "cell_type": "code",
   "execution_count": 76,
   "id": "76960484",
   "metadata": {
    "ExecuteTime": {
     "end_time": "2024-01-27T18:30:54.744961900Z",
     "start_time": "2024-01-27T18:30:54.682464600Z"
    }
   },
   "outputs": [
    {
     "data": {
      "text/plain": "   NO  Hemoglobin   MCH  MCHC   MCV  GENDER      RESULT\n0   1        14.9  22.7  29.1  83.7    Male  Not Anemia\n1   2        15.9  25.4  28.3  72.0  Female  Not Anemia\n2   3         9.0  21.5  29.6  71.2  Female  Not Anemia\n3   4        14.9  16.0  31.4  87.5  Female  Not Anemia\n4   5        14.7  22.0  28.2  99.5    Male  Not Anemia",
      "text/html": "<div>\n<style scoped>\n    .dataframe tbody tr th:only-of-type {\n        vertical-align: middle;\n    }\n\n    .dataframe tbody tr th {\n        vertical-align: top;\n    }\n\n    .dataframe thead th {\n        text-align: right;\n    }\n</style>\n<table border=\"1\" class=\"dataframe\">\n  <thead>\n    <tr style=\"text-align: right;\">\n      <th></th>\n      <th>NO</th>\n      <th>Hemoglobin</th>\n      <th>MCH</th>\n      <th>MCHC</th>\n      <th>MCV</th>\n      <th>GENDER</th>\n      <th>RESULT</th>\n    </tr>\n  </thead>\n  <tbody>\n    <tr>\n      <th>0</th>\n      <td>1</td>\n      <td>14.9</td>\n      <td>22.7</td>\n      <td>29.1</td>\n      <td>83.7</td>\n      <td>Male</td>\n      <td>Not Anemia</td>\n    </tr>\n    <tr>\n      <th>1</th>\n      <td>2</td>\n      <td>15.9</td>\n      <td>25.4</td>\n      <td>28.3</td>\n      <td>72.0</td>\n      <td>Female</td>\n      <td>Not Anemia</td>\n    </tr>\n    <tr>\n      <th>2</th>\n      <td>3</td>\n      <td>9.0</td>\n      <td>21.5</td>\n      <td>29.6</td>\n      <td>71.2</td>\n      <td>Female</td>\n      <td>Not Anemia</td>\n    </tr>\n    <tr>\n      <th>3</th>\n      <td>4</td>\n      <td>14.9</td>\n      <td>16.0</td>\n      <td>31.4</td>\n      <td>87.5</td>\n      <td>Female</td>\n      <td>Not Anemia</td>\n    </tr>\n    <tr>\n      <th>4</th>\n      <td>5</td>\n      <td>14.7</td>\n      <td>22.0</td>\n      <td>28.2</td>\n      <td>99.5</td>\n      <td>Male</td>\n      <td>Not Anemia</td>\n    </tr>\n  </tbody>\n</table>\n</div>"
     },
     "execution_count": 76,
     "metadata": {},
     "output_type": "execute_result"
    }
   ],
   "source": [
    "#Data Preprocessing and analysis\n",
    "data.head()"
   ]
  },
  {
   "cell_type": "code",
   "execution_count": 77,
   "outputs": [
    {
     "data": {
      "text/plain": "NO            0\nHemoglobin    0\nMCH           0\nMCHC          0\nMCV           0\nGENDER        0\nRESULT        0\ndtype: int64"
     },
     "execution_count": 77,
     "metadata": {},
     "output_type": "execute_result"
    }
   ],
   "source": [
    "data.isnull().sum()"
   ],
   "metadata": {
    "collapsed": false,
    "ExecuteTime": {
     "end_time": "2024-01-27T18:30:55.735115900Z",
     "start_time": "2024-01-27T18:30:55.703827900Z"
    }
   },
   "id": "9ef99417df691065"
  },
  {
   "cell_type": "code",
   "execution_count": 78,
   "id": "37b909ff",
   "metadata": {
    "ExecuteTime": {
     "end_time": "2024-01-27T18:30:56.904625600Z",
     "start_time": "2024-01-27T18:30:56.857343Z"
    }
   },
   "outputs": [
    {
     "name": "stdout",
     "output_type": "stream",
     "text": [
      "<class 'pandas.core.frame.DataFrame'>\n",
      "RangeIndex: 1421 entries, 0 to 1420\n",
      "Data columns (total 7 columns):\n",
      " #   Column      Non-Null Count  Dtype  \n",
      "---  ------      --------------  -----  \n",
      " 0   NO          1421 non-null   int64  \n",
      " 1   Hemoglobin  1421 non-null   float64\n",
      " 2   MCH         1421 non-null   float64\n",
      " 3   MCHC        1421 non-null   float64\n",
      " 4   MCV         1421 non-null   float64\n",
      " 5   GENDER      1421 non-null   object \n",
      " 6   RESULT      1421 non-null   object \n",
      "dtypes: float64(4), int64(1), object(2)\n",
      "memory usage: 77.8+ KB\n"
     ]
    }
   ],
   "source": [
    "data.info()"
   ]
  },
  {
   "cell_type": "code",
   "execution_count": 79,
   "outputs": [
    {
     "name": "stdout",
     "output_type": "stream",
     "text": [
      "['Not Anemia' 'Anemia']\n"
     ]
    }
   ],
   "source": [
    "m=data[\"RESULT\"].unique()\n",
    "print(m)"
   ],
   "metadata": {
    "collapsed": false,
    "ExecuteTime": {
     "end_time": "2024-01-27T18:30:57.985711Z",
     "start_time": "2024-01-27T18:30:57.970029Z"
    }
   },
   "id": "585fe0b44afa78b0"
  },
  {
   "cell_type": "code",
   "execution_count": 80,
   "id": "587b8ca8",
   "metadata": {
    "ExecuteTime": {
     "end_time": "2024-01-27T18:30:59.852489800Z",
     "start_time": "2024-01-27T18:30:59.805586900Z"
    }
   },
   "outputs": [
    {
     "data": {
      "text/plain": "1    801\n0    620\nName: RESULT, dtype: int64"
     },
     "execution_count": 80,
     "metadata": {},
     "output_type": "execute_result"
    }
   ],
   "source": [
    "data.replace([\"Male\",\"Female\"],[int(0),int(1)],inplace=True)\n",
    "data.replace([\"Anemia\",\"Not Anemia\"],[int(0),int(1)],inplace=True)\n",
    "color=[\"#CD5C5C\",\"#FFA07A\"]\n",
    "data[\"RESULT\"].value_counts()"
   ]
  },
  {
   "cell_type": "code",
   "execution_count": 81,
   "id": "8cd58fc1",
   "metadata": {
    "ExecuteTime": {
     "end_time": "2024-01-27T18:31:02.725919600Z",
     "start_time": "2024-01-27T18:31:02.504805300Z"
    }
   },
   "outputs": [
    {
     "data": {
      "text/plain": "Text(0.5, 1.0, 'Anemia Result')"
     },
     "execution_count": 81,
     "metadata": {},
     "output_type": "execute_result"
    },
    {
     "data": {
      "text/plain": "<Figure size 432x288 with 1 Axes>",
      "image/png": "[encoded data removed]"
     },
     "metadata": {
      "needs_background": "light"
     },
     "output_type": "display_data"
    }
   ],
   "source": [
    "data[\"RESULT\"].value_counts().plot.bar()\n",
    "plt.title(\"Anemia Result\")"
   ]
  },
  {
   "cell_type": "code",
   "execution_count": 82,
   "id": "60c77644",
   "metadata": {
    "ExecuteTime": {
     "end_time": "2024-01-27T18:31:03.706922600Z",
     "start_time": "2024-01-27T18:31:03.675624300Z"
    }
   },
   "outputs": [],
   "source": [
    "#there is a imbalance in the Result. assumption: there is chance of overfit in the model may occur"
   ]
  },
  {
   "cell_type": "code",
   "execution_count": 83,
   "id": "04a795a5",
   "metadata": {
    "ExecuteTime": {
     "end_time": "2024-01-27T18:31:10.939000300Z",
     "start_time": "2024-01-27T18:31:10.704230700Z"
    }
   },
   "outputs": [
    {
     "data": {
      "text/plain": "<Figure size 432x288 with 1 Axes>",
      "image/png": "[encoded data removed]"
     },
     "metadata": {
      "needs_background": "light"
     },
     "output_type": "display_data"
    },
    {
     "data": {
      "text/plain": "<Figure size 576x432 with 0 Axes>"
     },
     "metadata": {},
     "output_type": "display_data"
    }
   ],
   "source": [
    "iqr = np.percentile(data['Hemoglobin'], 75) - np.percentile(data['Hemoglobin'], 25)\n",
    "\n",
    "# Bin width using the Freedman-Diaconis rule \n",
    "bin_width = 2 * iqr / (len(data)**(1/3))\n",
    "                    \n",
    "sns.distplot(data['Hemoglobin'], hist=True, kde=True, \n",
    "             bins=int(round((data['Hemoglobin'].max() - data['Hemoglobin'].min()) / bin_width)),\n",
    "             color='#9FE2BF',\n",
    "             hist_kws={'edgecolor':'black', 'alpha': 0.8},\n",
    "             kde_kws={'linewidth': 2})\n",
    "plt.xlabel('Hemoglobin', fontsize=15)\n",
    "plt.ylabel('Count', fontsize=15)\n",
    "\n",
    "\n",
    "sns.despine(left=True, bottom=True)\n",
    "\n",
    "# Adjust plot size\n",
    "plt.figure(figsize=(8, 6))\n",
    "# Show plot\n",
    "plt.show()\n"
   ]
  },
  {
   "cell_type": "code",
   "execution_count": 84,
   "id": "ad14433a",
   "metadata": {
    "ExecuteTime": {
     "end_time": "2024-01-27T18:31:16.725306300Z",
     "start_time": "2024-01-27T18:31:16.678447300Z"
    }
   },
   "outputs": [
    {
     "data": {
      "text/plain": "    Level      Value\n0     low   6.600000\n1  normal  13.412738\n2    high  16.900000",
      "text/html": "<div>\n<style scoped>\n    .dataframe tbody tr th:only-of-type {\n        vertical-align: middle;\n    }\n\n    .dataframe tbody tr th {\n        vertical-align: top;\n    }\n\n    .dataframe thead th {\n        text-align: right;\n    }\n</style>\n<table border=\"1\" class=\"dataframe\">\n  <thead>\n    <tr style=\"text-align: right;\">\n      <th></th>\n      <th>Level</th>\n      <th>Value</th>\n    </tr>\n  </thead>\n  <tbody>\n    <tr>\n      <th>0</th>\n      <td>low</td>\n      <td>6.600000</td>\n    </tr>\n    <tr>\n      <th>1</th>\n      <td>normal</td>\n      <td>13.412738</td>\n    </tr>\n    <tr>\n      <th>2</th>\n      <td>high</td>\n      <td>16.900000</td>\n    </tr>\n  </tbody>\n</table>\n</div>"
     },
     "execution_count": 84,
     "metadata": {},
     "output_type": "execute_result"
    }
   ],
   "source": [
    "# Create a dictionary with the values\n",
    "hemoglobindata = {'Level': ['low', 'normal', 'high'],\n",
    "                   'Value': [data['Hemoglobin'].min(), data['Hemoglobin'].mean(), data['Hemoglobin'].max()]}\n",
    "hemoglobin_tb = pd.DataFrame(hemoglobindata)\n",
    "hemoglobin_tb\n",
    "# as we see in above visulaization we can confirm that the normal hemogloblin level ranges from 13.4 to 16.9g per deciliter.\n",
    "# men<13.4 is low hemoglobin\n",
    "# women<11.6 is low hemoglobin"
   ]
  },
  {
   "cell_type": "code",
   "execution_count": 85,
   "id": "ca7a7e29",
   "metadata": {
    "ExecuteTime": {
     "end_time": "2024-01-27T18:31:17.885635700Z",
     "start_time": "2024-01-27T18:31:17.823165300Z"
    }
   },
   "outputs": [
    {
     "data": {
      "text/plain": "    Level     Value\n0     low  16.00000\n1  normal  22.90563\n2    high  30.00000",
      "text/html": "<div>\n<style scoped>\n    .dataframe tbody tr th:only-of-type {\n        vertical-align: middle;\n    }\n\n    .dataframe tbody tr th {\n        vertical-align: top;\n    }\n\n    .dataframe thead th {\n        text-align: right;\n    }\n</style>\n<table border=\"1\" class=\"dataframe\">\n  <thead>\n    <tr style=\"text-align: right;\">\n      <th></th>\n      <th>Level</th>\n      <th>Value</th>\n    </tr>\n  </thead>\n  <tbody>\n    <tr>\n      <th>0</th>\n      <td>low</td>\n      <td>16.00000</td>\n    </tr>\n    <tr>\n      <th>1</th>\n      <td>normal</td>\n      <td>22.90563</td>\n    </tr>\n    <tr>\n      <th>2</th>\n      <td>high</td>\n      <td>30.00000</td>\n    </tr>\n  </tbody>\n</table>\n</div>"
     },
     "execution_count": 85,
     "metadata": {},
     "output_type": "execute_result"
    }
   ],
   "source": [
    "#MCH is a Mean corpuscular hemoglobin level\n",
    "MCHdata = {'Level': ['low', 'normal', 'high'],'Value': [data['MCH'].min(), data['MCH'].mean(), data['MCH'].max()]}\n",
    "MCHtb = pd.DataFrame(MCHdata)\n",
    "MCHtb"
   ]
  },
  {
   "cell_type": "code",
   "execution_count": 86,
   "id": "56e5ffc1",
   "metadata": {
    "ExecuteTime": {
     "end_time": "2024-01-27T18:31:18.804377400Z",
     "start_time": "2024-01-27T18:31:18.773093400Z"
    }
   },
   "outputs": [
    {
     "data": {
      "text/plain": "    Level      Value\n0     Low  27.800000\n1  Normal  30.251232\n2    High  32.500000",
      "text/html": "<div>\n<style scoped>\n    .dataframe tbody tr th:only-of-type {\n        vertical-align: middle;\n    }\n\n    .dataframe tbody tr th {\n        vertical-align: top;\n    }\n\n    .dataframe thead th {\n        text-align: right;\n    }\n</style>\n<table border=\"1\" class=\"dataframe\">\n  <thead>\n    <tr style=\"text-align: right;\">\n      <th></th>\n      <th>Level</th>\n      <th>Value</th>\n    </tr>\n  </thead>\n  <tbody>\n    <tr>\n      <th>0</th>\n      <td>Low</td>\n      <td>27.800000</td>\n    </tr>\n    <tr>\n      <th>1</th>\n      <td>Normal</td>\n      <td>30.251232</td>\n    </tr>\n    <tr>\n      <th>2</th>\n      <td>High</td>\n      <td>32.500000</td>\n    </tr>\n  </tbody>\n</table>\n</div>"
     },
     "execution_count": 86,
     "metadata": {},
     "output_type": "execute_result"
    }
   ],
   "source": [
    "#Mean corpusculare hemoglbin concentration\n",
    "MCHCdata = {'Level': ['Low', 'Normal', 'High'],'Value': [data['MCHC'].min(), data['MCHC'].mean(), data['MCHC'].max()]}\n",
    "MCHCtable = pd.DataFrame(MCHCdata)\n",
    "MCHCtable"
   ]
  },
  {
   "cell_type": "code",
   "execution_count": 87,
   "id": "b2c31972",
   "metadata": {
    "ExecuteTime": {
     "end_time": "2024-01-27T18:31:19.981834500Z",
     "start_time": "2024-01-27T18:31:19.950525200Z"
    }
   },
   "outputs": [
    {
     "data": {
      "text/plain": "    Level       Value\n0     Low   69.400000\n1  Normal   85.563969\n2    High  109.400000",
      "text/html": "<div>\n<style scoped>\n    .dataframe tbody tr th:only-of-type {\n        vertical-align: middle;\n    }\n\n    .dataframe tbody tr th {\n        vertical-align: top;\n    }\n\n    .dataframe thead th {\n        text-align: right;\n    }\n</style>\n<table border=\"1\" class=\"dataframe\">\n  <thead>\n    <tr style=\"text-align: right;\">\n      <th></th>\n      <th>Level</th>\n      <th>Value</th>\n    </tr>\n  </thead>\n  <tbody>\n    <tr>\n      <th>0</th>\n      <td>Low</td>\n      <td>69.400000</td>\n    </tr>\n    <tr>\n      <th>1</th>\n      <td>Normal</td>\n      <td>85.563969</td>\n    </tr>\n    <tr>\n      <th>2</th>\n      <td>High</td>\n      <td>109.400000</td>\n    </tr>\n  </tbody>\n</table>\n</div>"
     },
     "execution_count": 87,
     "metadata": {},
     "output_type": "execute_result"
    }
   ],
   "source": [
    "MCVdata = {'Level': ['Low', 'Normal', 'High'],'Value': [data['MCV'].min(), data['MCV'].mean(), data['MCV'].max()]}\n",
    "MCVtb = pd.DataFrame(MCVdata)\n",
    "MCVtb"
   ]
  },
  {
   "cell_type": "code",
   "execution_count": 87,
   "id": "601d9832",
   "metadata": {
    "ExecuteTime": {
     "end_time": "2024-01-27T18:31:24.375582200Z",
     "start_time": "2024-01-27T18:31:24.359955600Z"
    }
   },
   "outputs": [],
   "source": []
  },
  {
   "cell_type": "code",
   "execution_count": 88,
   "id": "7f8e5a4a",
   "metadata": {
    "ExecuteTime": {
     "end_time": "2024-01-27T18:31:25.585849600Z",
     "start_time": "2024-01-27T18:31:25.560631800Z"
    }
   },
   "outputs": [
    {
     "name": "stdout",
     "output_type": "stream",
     "text": [
      "Chi-Square Statistic: 90.06\n",
      "P-Value: 0.000\n",
      "Null hypothesis: Gender and anemia status are dependent so null hypothesis got rejected.\n"
     ]
    }
   ],
   "source": [
    "#Statistical testing of Data\n",
    "from scipy.stats import chi2_contingency \n",
    "\n",
    "# Create a contingency table of gender and anemia status\n",
    "contb = pd.crosstab(data['GENDER'], data['RESULT'])\n",
    "\n",
    "# Perform the chi-square test of independence\n",
    "chi2_statistic, p_value, dof, expected = chi2_contingency(contb)\n",
    "\n",
    "# Print the results\n",
    "print(\"Chi-Square Statistic: {:.2f}\".format(chi2_statistic))\n",
    "print(\"P-Value: {:.3f}\".format(p_value))\n",
    "\n",
    "# Compare the p-value with the significance level (0.05)\n",
    "if p_value < 0.05:\n",
    "    print(\"Null hypothesis: Gender and anemia status are dependent so null hypothesis got rejected.\")\n",
    "else:\n",
    "    print(\"Fail to reject null hypothesis: Gender and anemia status are independent.\")"
   ]
  },
  {
   "cell_type": "code",
   "execution_count": 89,
   "id": "9a0114ec",
   "metadata": {
    "ExecuteTime": {
     "end_time": "2024-01-27T18:31:28.261173700Z",
     "start_time": "2024-01-27T18:31:27.634248700Z"
    }
   },
   "outputs": [
    {
     "data": {
      "text/plain": "<Figure size 432x288 with 2 Axes>",
      "image/png": "[encoded data removed]"
     },
     "metadata": {
      "needs_background": "light"
     },
     "output_type": "display_data"
    }
   ],
   "source": [
    "corr_matrix = data.corr().round(2)\n",
    "\n",
    "# plot the correlation matrix using a heatmap from seaborn\n",
    "sns.heatmap(corr_matrix, cmap='coolwarm', annot=True)\n",
    "#plt.title('Correlation Matrix', fontweight='bold')\n",
    "plt.show()"
   ]
  },
  {
   "cell_type": "code",
   "execution_count": 90,
   "id": "d55f8ef2",
   "metadata": {
    "ExecuteTime": {
     "end_time": "2024-01-27T18:31:55.080870600Z",
     "start_time": "2024-01-27T18:31:55.049620Z"
    }
   },
   "outputs": [],
   "source": [
    "#Feature Selection use of cross validation extra tree classifier \n",
    "X = data.iloc[:,1:6]  # independent columns\n",
    "y = data.iloc[:,6] "
   ]
  },
  {
   "cell_type": "code",
   "execution_count": 91,
   "id": "1b4aa691",
   "metadata": {
    "ExecuteTime": {
     "end_time": "2024-01-27T18:31:56.682178800Z",
     "start_time": "2024-01-27T18:31:56.350317200Z"
    }
   },
   "outputs": [
    {
     "data": {
      "text/plain": "ExtraTreesClassifier()"
     },
     "execution_count": 91,
     "metadata": {},
     "output_type": "execute_result"
    }
   ],
   "source": [
    "from sklearn.ensemble import ExtraTreesClassifier\n",
    "import matplotlib.pyplot as plt\n",
    "model = ExtraTreesClassifier()\n",
    "model.fit(X,y)"
   ]
  },
  {
   "cell_type": "code",
   "execution_count": 92,
   "id": "2ffc4de2",
   "metadata": {
    "ExecuteTime": {
     "end_time": "2024-01-27T18:32:01.491226900Z",
     "start_time": "2024-01-27T18:32:01.268572200Z"
    }
   },
   "outputs": [
    {
     "data": {
      "text/plain": "<Figure size 432x288 with 1 Axes>",
      "image/png": "[encoded data removed]"
     },
     "metadata": {
      "needs_background": "light"
     },
     "output_type": "display_data"
    }
   ],
   "source": [
    "#plot graph of feature importances for better visualization\n",
    "feat_importances = pd.Series(model.feature_importances_, index=X.columns)\n",
    "\n",
    "feat_importances.nlargest(4).plot(kind='barh', color='#40E0D0')\n",
    "plt.xlabel('Importance')\n",
    "# plt.title('Top 4 Features Importance', fontweight='bold', fontsize=12)\n",
    "\n",
    "plt.show()"
   ]
  },
  {
   "cell_type": "code",
   "execution_count": 93,
   "id": "353f18db",
   "metadata": {
    "ExecuteTime": {
     "end_time": "2024-01-27T18:32:11.008937900Z",
     "start_time": "2024-01-27T18:32:10.977762600Z"
    }
   },
   "outputs": [],
   "source": [
    "#splitting of required features for training\n",
    "X=data[[\"Hemoglobin\",\"MCV\",\"MCH\",\"GENDER\"]]\n",
    "y=data[[\"RESULT\"]]"
   ]
  },
  {
   "cell_type": "code",
   "execution_count": 94,
   "id": "6f2115d0",
   "metadata": {
    "ExecuteTime": {
     "end_time": "2024-01-27T18:32:12.229522Z",
     "start_time": "2024-01-27T18:32:12.151909100Z"
    }
   },
   "outputs": [
    {
     "data": {
      "text/plain": "      Hemoglobin   MCV   MCH  GENDER\n0           14.9  83.7  22.7       0\n1           15.9  72.0  25.4       1\n2            9.0  71.2  21.5       1\n3           14.9  87.5  16.0       1\n4           14.7  99.5  22.0       0\n...          ...   ...   ...     ...\n1416        10.6  82.9  25.4       1\n1417        12.1  86.9  28.3       0\n1418        13.1  80.7  17.7       0\n1419        14.3  95.2  16.2       1\n1420        11.8  98.1  21.2       1\n\n[1421 rows x 4 columns]",
      "text/html": "<div>\n<style scoped>\n    .dataframe tbody tr th:only-of-type {\n        vertical-align: middle;\n    }\n\n    .dataframe tbody tr th {\n        vertical-align: top;\n    }\n\n    .dataframe thead th {\n        text-align: right;\n    }\n</style>\n<table border=\"1\" class=\"dataframe\">\n  <thead>\n    <tr style=\"text-align: right;\">\n      <th></th>\n      <th>Hemoglobin</th>\n      <th>MCV</th>\n      <th>MCH</th>\n      <th>GENDER</th>\n    </tr>\n  </thead>\n  <tbody>\n    <tr>\n      <th>0</th>\n      <td>14.9</td>\n      <td>83.7</td>\n      <td>22.7</td>\n      <td>0</td>\n    </tr>\n    <tr>\n      <th>1</th>\n      <td>15.9</td>\n      <td>72.0</td>\n      <td>25.4</td>\n      <td>1</td>\n    </tr>\n    <tr>\n      <th>2</th>\n      <td>9.0</td>\n      <td>71.2</td>\n      <td>21.5</td>\n      <td>1</td>\n    </tr>\n    <tr>\n      <th>3</th>\n      <td>14.9</td>\n      <td>87.5</td>\n      <td>16.0</td>\n      <td>1</td>\n    </tr>\n    <tr>\n      <th>4</th>\n      <td>14.7</td>\n      <td>99.5</td>\n      <td>22.0</td>\n      <td>0</td>\n    </tr>\n    <tr>\n      <th>...</th>\n      <td>...</td>\n      <td>...</td>\n      <td>...</td>\n      <td>...</td>\n    </tr>\n    <tr>\n      <th>1416</th>\n      <td>10.6</td>\n      <td>82.9</td>\n      <td>25.4</td>\n      <td>1</td>\n    </tr>\n    <tr>\n      <th>1417</th>\n      <td>12.1</td>\n      <td>86.9</td>\n      <td>28.3</td>\n      <td>0</td>\n    </tr>\n    <tr>\n      <th>1418</th>\n      <td>13.1</td>\n      <td>80.7</td>\n      <td>17.7</td>\n      <td>0</td>\n    </tr>\n    <tr>\n      <th>1419</th>\n      <td>14.3</td>\n      <td>95.2</td>\n      <td>16.2</td>\n      <td>1</td>\n    </tr>\n    <tr>\n      <th>1420</th>\n      <td>11.8</td>\n      <td>98.1</td>\n      <td>21.2</td>\n      <td>1</td>\n    </tr>\n  </tbody>\n</table>\n<p>1421 rows × 4 columns</p>\n</div>"
     },
     "execution_count": 94,
     "metadata": {},
     "output_type": "execute_result"
    }
   ],
   "source": [
    "X"
   ]
  },
  {
   "cell_type": "code",
   "execution_count": 95,
   "id": "73b1227a",
   "metadata": {
    "ExecuteTime": {
     "end_time": "2024-01-27T18:32:14.813121100Z",
     "start_time": "2024-01-27T18:32:14.781433700Z"
    }
   },
   "outputs": [
    {
     "data": {
      "text/plain": "      RESULT\n0          1\n1          1\n2          1\n3          1\n4          1\n...      ...\n1416       0\n1417       0\n1418       0\n1419       1\n1420       0\n\n[1421 rows x 1 columns]",
      "text/html": "<div>\n<style scoped>\n    .dataframe tbody tr th:only-of-type {\n        vertical-align: middle;\n    }\n\n    .dataframe tbody tr th {\n        vertical-align: top;\n    }\n\n    .dataframe thead th {\n        text-align: right;\n    }\n</style>\n<table border=\"1\" class=\"dataframe\">\n  <thead>\n    <tr style=\"text-align: right;\">\n      <th></th>\n      <th>RESULT</th>\n    </tr>\n  </thead>\n  <tbody>\n    <tr>\n      <th>0</th>\n      <td>1</td>\n    </tr>\n    <tr>\n      <th>1</th>\n      <td>1</td>\n    </tr>\n    <tr>\n      <th>2</th>\n      <td>1</td>\n    </tr>\n    <tr>\n      <th>3</th>\n      <td>1</td>\n    </tr>\n    <tr>\n      <th>4</th>\n      <td>1</td>\n    </tr>\n    <tr>\n      <th>...</th>\n      <td>...</td>\n    </tr>\n    <tr>\n      <th>1416</th>\n      <td>0</td>\n    </tr>\n    <tr>\n      <th>1417</th>\n      <td>0</td>\n    </tr>\n    <tr>\n      <th>1418</th>\n      <td>0</td>\n    </tr>\n    <tr>\n      <th>1419</th>\n      <td>1</td>\n    </tr>\n    <tr>\n      <th>1420</th>\n      <td>0</td>\n    </tr>\n  </tbody>\n</table>\n<p>1421 rows × 1 columns</p>\n</div>"
     },
     "execution_count": 95,
     "metadata": {},
     "output_type": "execute_result"
    }
   ],
   "source": [
    "y"
   ]
  },
  {
   "cell_type": "code",
   "execution_count": 96,
   "id": "7486d470",
   "metadata": {
    "ExecuteTime": {
     "end_time": "2024-01-27T18:32:54.147240Z",
     "start_time": "2024-01-27T18:32:54.100359400Z"
    }
   },
   "outputs": [],
   "source": [
    "from sklearn.model_selection import train_test_split\n",
    "from sklearn import metrics\n",
    "X_train, X_test, y_train, y_test = train_test_split(X, y, test_size=0.30, shuffle=True, random_state=25)"
   ]
  },
  {
   "cell_type": "code",
   "execution_count": 96,
   "outputs": [],
   "source": [],
   "metadata": {
    "collapsed": false,
    "ExecuteTime": {
     "end_time": "2024-01-27T18:47:19.945942200Z",
     "start_time": "2024-01-27T18:47:19.914719Z"
    }
   },
   "id": "243dfdc430991368"
  },
  {
   "cell_type": "code",
   "execution_count": 97,
   "id": "17972a3a",
   "metadata": {
    "ExecuteTime": {
     "end_time": "2024-01-27T18:47:23.167154800Z",
     "start_time": "2024-01-27T18:47:22.885897900Z"
    }
   },
   "outputs": [
    {
     "name": "stdout",
     "output_type": "stream",
     "text": [
      "              precision    recall  f1-score   support\n",
      "\n",
      "           0       0.99      0.99      0.99       193\n",
      "           1       1.00      0.99      0.99       234\n",
      "\n",
      "    accuracy                           0.99       427\n",
      "   macro avg       0.99      0.99      0.99       427\n",
      "weighted avg       0.99      0.99      0.99       427\n",
      "\n"
     ]
    }
   ],
   "source": [
    "from sklearn.ensemble import RandomForestClassifier\n",
    "RF=RandomForestClassifier(max_features='auto', n_estimators=200)\n",
    "RF.fit(X_train, y_train)\n",
    "p3=ADA.score(X_test,y_test)*100\n",
    "result1=RF.predict(X_test)\n",
    "print(metrics.classification_report(y_test,result1))"
   ]
  },
  {
   "cell_type": "code",
   "execution_count": 98,
   "id": "06defb23",
   "metadata": {
    "ExecuteTime": {
     "end_time": "2024-01-27T18:48:55.051254900Z",
     "start_time": "2024-01-27T18:48:54.918279700Z"
    }
   },
   "outputs": [
    {
     "name": "stdout",
     "output_type": "stream",
     "text": [
      "              precision    recall  f1-score   support\n",
      "\n",
      "           0       0.99      0.99      0.99       193\n",
      "           1       0.99      1.00      0.99       234\n",
      "\n",
      "    accuracy                           0.99       427\n",
      "   macro avg       0.99      0.99      0.99       427\n",
      "weighted avg       0.99      0.99      0.99       427\n",
      "\n",
      "99.29742388758783\n"
     ]
    }
   ],
   "source": [
    "from sklearn.ensemble import AdaBoostClassifier\n",
    "ADA=AdaBoostClassifier()\n",
    "ADA.fit(X_train, y_train)\n",
    "p2=ADA.score(X_test,y_test)*100\n",
    "\n",
    "result2=ADA.predict(X_test)\n",
    "print(metrics.classification_report(y_test,result2))\n",
    "print(p2)"
   ]
  },
  {
   "cell_type": "code",
   "execution_count": 99,
   "id": "343cd9f7",
   "metadata": {
    "ExecuteTime": {
     "end_time": "2024-01-27T18:49:26.187352300Z",
     "start_time": "2024-01-27T18:49:26.171712800Z"
    }
   },
   "outputs": [
    {
     "name": "stdout",
     "output_type": "stream",
     "text": [
      "              precision    recall  f1-score   support\n",
      "\n",
      "           0       0.98      0.98      0.98       193\n",
      "           1       0.99      0.98      0.99       234\n",
      "\n",
      "    accuracy                           0.98       427\n",
      "   macro avg       0.98      0.98      0.98       427\n",
      "weighted avg       0.98      0.98      0.98       427\n",
      "\n",
      "98.36065573770492\n"
     ]
    }
   ],
   "source": [
    "from sklearn.tree import DecisionTreeClassifier\n",
    "DC=DecisionTreeClassifier()\n",
    "DC.fit(X_train, y_train)\n",
    "p4=DC.score(X_test,y_test)*100\n",
    "\n",
    "result3=DC.predict(X_test)\n",
    "print(metrics.classification_report(y_test,result3))\n",
    "print(p4)"
   ]
  },
  {
   "cell_type": "code",
   "execution_count": 100,
   "id": "76c99dd8",
   "metadata": {
    "ExecuteTime": {
     "end_time": "2024-01-27T18:50:12.890776400Z",
     "start_time": "2024-01-27T18:50:12.812342800Z"
    }
   },
   "outputs": [
    {
     "name": "stdout",
     "output_type": "stream",
     "text": [
      "              precision    recall  f1-score   support\n",
      "\n",
      "           0       0.88      0.93      0.90       193\n",
      "           1       0.94      0.90      0.92       234\n",
      "\n",
      "    accuracy                           0.91       427\n",
      "   macro avg       0.91      0.91      0.91       427\n",
      "weighted avg       0.91      0.91      0.91       427\n",
      "\n",
      "91.10070257611241\n"
     ]
    }
   ],
   "source": [
    "from sklearn.naive_bayes import GaussianNB\n",
    "GB=GaussianNB()\n",
    "GB.fit(X_train,y_train)\n",
    "p5=GB.score(X_test,y_test)*100\n",
    "\n",
    "result4=GB.predict(X_test)\n",
    "print(metrics.classification_report(y_test,result4))\n",
    "print(p5)"
   ]
  },
  {
   "cell_type": "code",
   "execution_count": 101,
   "id": "425dfbe8",
   "metadata": {
    "ExecuteTime": {
     "end_time": "2024-01-27T18:50:51.038049500Z",
     "start_time": "2024-01-27T18:50:50.969266300Z"
    }
   },
   "outputs": [
    {
     "name": "stdout",
     "output_type": "stream",
     "text": [
      "              precision    recall  f1-score   support\n",
      "\n",
      "           0       0.97      0.99      0.98       193\n",
      "           1       1.00      0.97      0.98       234\n",
      "\n",
      "    accuracy                           0.98       427\n",
      "   macro avg       0.98      0.98      0.98       427\n",
      "weighted avg       0.98      0.98      0.98       427\n",
      "\n",
      "98.36065573770492\n"
     ]
    }
   ],
   "source": [
    "from sklearn.linear_model import LogisticRegression\n",
    "LR=LogisticRegression(random_state=0,max_iter=3000)\n",
    "LR.fit(X_train, y_train)\n",
    "p1=LR.score(X_test,y_test)*100\n",
    "\n",
    "result5=LR.predict(X_test)\n",
    "print(metrics.classification_report(y_test,result5))\n",
    "print(p1)"
   ]
  },
  {
   "cell_type": "code",
   "execution_count": 102,
   "outputs": [
    {
     "name": "stdout",
     "output_type": "stream",
     "text": [
      "98.36065573770492\n"
     ]
    }
   ],
   "source": [
    "from sklearn.svm import SVC\n",
    "svm_classifier = SVC(kernel = 'linear',random_state = 0)\n",
    "svm_classifier.fit(X_train,y_train)\n",
    "\n",
    "p6=svm_classifier.score(X_test,y_test)*100\n",
    "print(p6)"
   ],
   "metadata": {
    "collapsed": false,
    "pycharm": {
     "name": "#%%\n"
    }
   }
  },
  {
   "cell_type": "code",
   "execution_count": 103,
   "outputs": [
    {
     "name": "stdout",
     "output_type": "stream",
     "text": [
      "99.06323185011709\n"
     ]
    }
   ],
   "source": [
    "from sklearn.ensemble import BaggingClassifier\n",
    "\n",
    "dt_classifier = DecisionTreeClassifier(max_depth = 6, random_state = 1 )\n",
    "\n",
    "bc_classifier = BaggingClassifier(n_estimators = 300, n_jobs= -1 , random_state=1)\n",
    "\n",
    "bc_classifier.fit(X_train,y_train)\n",
    "\n",
    "p7=bc_classifier.score(X_test,y_test)*100\n",
    "print(p7)"
   ],
   "metadata": {
    "collapsed": false,
    "pycharm": {
     "name": "#%%\n"
    }
   }
  },
  {
   "cell_type": "code",
   "execution_count": 104,
   "outputs": [
    {
     "name": "stdout",
     "output_type": "stream",
     "text": [
      "[LightGBM] [Info] Number of positive: 567, number of negative: 427\n",
      "[LightGBM] [Info] Auto-choosing row-wise multi-threading, the overhead of testing was 0.000897 seconds.\n",
      "You can set `force_row_wise=true` to remove the overhead.\n",
      "And if memory is not enough, you can set `force_col_wise=true`.\n",
      "[LightGBM] [Info] Total Bins 438\n",
      "[LightGBM] [Info] Number of data points in the train set: 994, number of used features: 4\n",
      "[LightGBM] [Info] [binary:BoostFromScore]: pavg=0.570423 -> initscore=0.283575\n",
      "[LightGBM] [Info] Start training from score 0.283575\n",
      "[LightGBM] [Warning] No further splits with positive gain, best gain: -inf\n",
      "[LightGBM] [Warning] No further splits with positive gain, best gain: -inf\n",
      "[LightGBM] [Warning] No further splits with positive gain, best gain: -inf\n",
      "[LightGBM] [Warning] No further splits with positive gain, best gain: -inf\n",
      "[LightGBM] [Warning] No further splits with positive gain, best gain: -inf\n",
      "[LightGBM] [Warning] No further splits with positive gain, best gain: -inf\n",
      "[LightGBM] [Warning] No further splits with positive gain, best gain: -inf\n",
      "[LightGBM] [Warning] No further splits with positive gain, best gain: -inf\n",
      "[LightGBM] [Warning] No further splits with positive gain, best gain: -inf\n",
      "[LightGBM] [Warning] No further splits with positive gain, best gain: -inf\n",
      "[LightGBM] [Warning] No further splits with positive gain, best gain: -inf\n",
      "[LightGBM] [Warning] No further splits with positive gain, best gain: -inf\n",
      "[LightGBM] [Warning] No further splits with positive gain, best gain: -inf\n",
      "[LightGBM] [Warning] No further splits with positive gain, best gain: -inf\n",
      "[LightGBM] [Warning] No further splits with positive gain, best gain: -inf\n",
      "[LightGBM] [Warning] No further splits with positive gain, best gain: -inf\n",
      "[LightGBM] [Warning] No further splits with positive gain, best gain: -inf\n",
      "[LightGBM] [Warning] No further splits with positive gain, best gain: -inf\n",
      "[LightGBM] [Warning] No further splits with positive gain, best gain: -inf\n",
      "[LightGBM] [Warning] No further splits with positive gain, best gain: -inf\n",
      "[LightGBM] [Warning] No further splits with positive gain, best gain: -inf\n",
      "[LightGBM] [Warning] No further splits with positive gain, best gain: -inf\n",
      "[LightGBM] [Warning] No further splits with positive gain, best gain: -inf\n",
      "[LightGBM] [Warning] No further splits with positive gain, best gain: -inf\n",
      "[LightGBM] [Warning] No further splits with positive gain, best gain: -inf\n",
      "99.29742388758783\n"
     ]
    }
   ],
   "source": [
    "from lightgbm import LGBMClassifier\n",
    "\n",
    "lgbm_classifier = LGBMClassifier(random_state=1)\n",
    "\n",
    "lgbm_classifier.fit(X_train,y_train)\n",
    "\n",
    "p8=lgbm_classifier.score(X_test,y_test)*100\n",
    "print(p8)"
   ],
   "metadata": {
    "collapsed": false,
    "pycharm": {
     "name": "#%%\n"
    }
   }
  },
  {
   "cell_type": "code",
   "execution_count": 105,
   "outputs": [],
   "source": [
    "from sklearn.preprocessing import LabelEncoder\n",
    "\n",
    "# Instantiate the encoder\n",
    "le = LabelEncoder()\n",
    "\n",
    "# Fit and transform the target variable\n",
    "y_train_xg = le.fit_transform(y_train)\n",
    "y_test_xg = le.fit_transform(y_test)\n",
    "# Now you can fit the model\n"
   ],
   "metadata": {
    "collapsed": false,
    "pycharm": {
     "name": "#%%\n"
    }
   }
  },
  {
   "cell_type": "code",
   "execution_count": 106,
   "outputs": [
    {
     "name": "stdout",
     "output_type": "stream",
     "text": [
      "99.29742388758783\n"
     ]
    }
   ],
   "source": [
    "from xgboost import XGBClassifier\n",
    "\n",
    "xgb_classifier = XGBClassifier()\n",
    "\n",
    "xgb_classifier.fit(X_train,y_train_xg)\n",
    "\n",
    "p9=xgb_classifier.score(X_test,y_test_xg)*100\n",
    "print(p9)"
   ],
   "metadata": {
    "collapsed": false,
    "pycharm": {
     "name": "#%%\n"
    }
   }
  },
  {
   "cell_type": "code",
   "execution_count": 107,
   "outputs": [
    {
     "data": {
      "text/plain": "<Figure size 1440x432 with 1 Axes>",
      "image/png": "[encoded data removed]"
     },
     "metadata": {
      "needs_background": "light"
     },
     "output_type": "display_data"
    }
   ],
   "source": [
    "a=[\"LogisticRegression\",\"AdaBoostClassifier\",\"RandomForestClassifier\",\"DecisionTreeClassifier\",\"GaussianNB\",\"SVC\",\"BaggingClassifier\",\"LGBMClassifier\",\"XGBClassifier\"]\n",
    "b=[p1,p2,p3,p4,p5,p6,p7,p8,p9]\n",
    "plt.figure(figsize=(20,6))\n",
    "plt.bar(a,b)\n",
    "plt.title(\"Accuracy Graph\")\n",
    "plt.xlabel(\"Algorithm\",labelpad=20)\n",
    "plt.ylabel(\"percentage\")\n",
    "plt.show()"
   ],
   "metadata": {
    "collapsed": false,
    "pycharm": {
     "name": "#%%\n"
    }
   }
  },
  {
   "cell_type": "code",
   "execution_count": 108,
   "id": "1e8be0e7",
   "metadata": {
    "ExecuteTime": {
     "end_time": "2023-10-17T15:38:29.157954100Z",
     "start_time": "2023-10-17T15:38:28.688207400Z"
    }
   },
   "outputs": [
    {
     "data": {
      "text/plain": "99.06323185011709"
     },
     "execution_count": 108,
     "metadata": {},
     "output_type": "execute_result"
    }
   ],
   "source": [
    "#use of ensemble\n",
    "from sklearn.ensemble import VotingClassifier\n",
    "model = VotingClassifier(estimators=[('lr', RF), ('dt', ADA)], voting='soft')\n",
    "model.fit(X_train,y_train)\n",
    "model.score(X_test,y_test)*100"
   ]
  },
  {
   "cell_type": "code",
   "execution_count": 109,
   "id": "a96c221f",
   "metadata": {
    "ExecuteTime": {
     "end_time": "2023-10-17T15:38:29.251935400Z",
     "start_time": "2023-10-17T15:38:29.157954100Z"
    }
   },
   "outputs": [
    {
     "name": "stdout",
     "output_type": "stream",
     "text": [
      "              precision    recall  f1-score   support\n",
      "\n",
      "           0       0.99      0.99      0.99       193\n",
      "           1       0.99      0.99      0.99       234\n",
      "\n",
      "    accuracy                           0.99       427\n",
      "   macro avg       0.99      0.99      0.99       427\n",
      "weighted avg       0.99      0.99      0.99       427\n",
      "\n"
     ]
    }
   ],
   "source": [
    "result = model.predict(X_test)\n",
    "print(metrics.classification_report(y_test, result))"
   ]
  },
  {
   "cell_type": "code",
   "execution_count": 110,
   "id": "26d17d96",
   "metadata": {
    "ExecuteTime": {
     "end_time": "2023-10-17T15:38:29.330540400Z",
     "start_time": "2023-10-17T15:38:29.236304400Z"
    }
   },
   "outputs": [
    {
     "name": "stdout",
     "output_type": "stream",
     "text": [
      "Accuracy :0.99063\n",
      "ROC_AUC : 0.99055\n",
      "Precision : 0.99145\n",
      "Recall : 0.99145\n",
      "F1 : 0.99145\n",
      "\n",
      "\n"
     ]
    }
   ],
   "source": [
    "print('Accuracy :{0:0.5f}'.format(metrics.accuracy_score(result , y_test))) \n",
    "print('ROC_AUC : {0:0.5f}'.format(metrics.roc_auc_score(y_test , result)))\n",
    "print('Precision : {0:0.5f}'.format(metrics.precision_score(y_test , result)))\n",
    "print('Recall : {0:0.5f}'.format(metrics.recall_score(y_test , result)))\n",
    "print('F1 : {0:0.5f}'.format(metrics.f1_score(y_test , result)))\n",
    "# print('Confusion Matrix : \\n', cnf_matrix)\n",
    "print(\"\\n\")"
   ]
  },
  {
   "cell_type": "code",
   "execution_count": 111,
   "id": "e1d6b872",
   "metadata": {
    "ExecuteTime": {
     "end_time": "2023-10-17T15:38:29.627641600Z",
     "start_time": "2023-10-17T15:38:29.549514900Z"
    }
   },
   "outputs": [
    {
     "data": {
      "text/plain": "array([[191,   2],\n       [  2, 232]], dtype=int64)"
     },
     "execution_count": 111,
     "metadata": {},
     "output_type": "execute_result"
    }
   ],
   "source": [
    "confusionmtr = metrics.confusion_matrix(y_test,result)\n",
    "confusionmtr"
   ]
  },
  {
   "cell_type": "code",
   "execution_count": 112,
   "id": "89e6709e",
   "metadata": {
    "ExecuteTime": {
     "end_time": "2023-10-17T15:38:30.662922400Z",
     "start_time": "2023-10-17T15:38:30.490955500Z"
    }
   },
   "outputs": [
    {
     "data": {
      "text/plain": "<Figure size 432x288 with 2 Axes>",
      "image/png": "[encoded data removed]"
     },
     "metadata": {
      "needs_background": "light"
     },
     "output_type": "display_data"
    }
   ],
   "source": [
    "p = sns.heatmap(pd.DataFrame(confusionmtr), annot=True, annot_kws={\"size\": 25}, cmap=\"cool\" ,fmt='g')\n",
    "plt.title('Confusion matrix', y=1.1, fontsize = 22)\n",
    "plt.ylabel('Actual',fontsize = 18)\n",
    "plt.xlabel('Predicted',fontsize = 18)\n",
    "plt.show()"
   ]
  },
  {
   "cell_type": "code",
   "execution_count": 113,
   "id": "b4a48b11",
   "metadata": {
    "ExecuteTime": {
     "end_time": "2023-10-17T15:39:14.972757200Z",
     "start_time": "2023-10-17T15:39:14.925526Z"
    }
   },
   "outputs": [
    {
     "name": "stdout",
     "output_type": "stream",
     "text": [
      "Ensemble model: model.pkl\n"
     ]
    }
   ],
   "source": [
    "import pickle\n",
    "filename = 'model.pkl'\n",
    "pickle.dump(model, open(filename, 'wb'))\n",
    "print(\"Ensemble model:\", filename)"
   ]
  },
  {
   "cell_type": "code",
   "execution_count": 113,
   "outputs": [],
   "source": [],
   "metadata": {
    "collapsed": false,
    "pycharm": {
     "name": "#%%\n"
    }
   }
  }
 ],
 "metadata": {
  "kernelspec": {
   "display_name": "Python 3 (ipykernel)",
   "language": "python",
   "name": "python3"
  },
  "language_info": {
   "codemirror_mode": {
    "name": "ipython",
    "version": 3
   },
   "file_extension": ".py",
   "mimetype": "text/x-python",
   "name": "python",
   "nbconvert_exporter": "python",
   "pygments_lexer": "ipython3",
   "version": "3.7.4"
  }
 },
 "nbformat": 4,
 "nbformat_minor": 5
}